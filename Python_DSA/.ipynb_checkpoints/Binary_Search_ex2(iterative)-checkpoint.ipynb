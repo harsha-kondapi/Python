{
 "cells": [
  {
   "cell_type": "code",
   "execution_count": null,
   "id": "f36b2673",
   "metadata": {},
   "outputs": [],
   "source": [
    "array = [3,6,8,12,14,17,25,29,31,36,42,47,53,55,62]\n",
    "array"
   ]
  },
  {
   "cell_type": "code",
   "execution_count": null,
   "id": "57b3e56d",
   "metadata": {},
   "outputs": [],
   "source": [
    "key = 42"
   ]
  },
  {
   "cell_type": "code",
   "execution_count": null,
   "id": "6a1284b8",
   "metadata": {},
   "outputs": [],
   "source": [
    "def binarySearch(array, key, low, high):\n",
    "    while low <= high:\n",
    "        mid = low + (high-low)//2\n",
    "        print(mid)\n",
    "        if array[mid] == key:\n",
    "            return mid\n",
    "        elif array[mid] <= key:\n",
    "            low = mid + 1\n",
    "        else:\n",
    "            high = mid - 1"
   ]
  },
  {
   "cell_type": "code",
   "execution_count": null,
   "id": "70fc41a7",
   "metadata": {},
   "outputs": [],
   "source": [
    "result = binarySearch(array, key, 0, len(array)-1)\n",
    "result"
   ]
  },
  {
   "cell_type": "code",
   "execution_count": null,
   "id": "e286a652",
   "metadata": {},
   "outputs": [],
   "source": [
    "print(result)"
   ]
  },
  {
   "cell_type": "code",
   "execution_count": null,
   "id": "367f0081",
   "metadata": {},
   "outputs": [],
   "source": [
    "print"
   ]
  },
  {
   "cell_type": "code",
   "execution_count": null,
   "id": "a486af6d",
   "metadata": {},
   "outputs": [],
   "source": []
  }
 ],
 "metadata": {
  "kernelspec": {
   "display_name": "Python 3 (ipykernel)",
   "language": "python",
   "name": "python3"
  },
  "language_info": {
   "codemirror_mode": {
    "name": "ipython",
    "version": 3
   },
   "file_extension": ".py",
   "mimetype": "text/x-python",
   "name": "python",
   "nbconvert_exporter": "python",
   "pygments_lexer": "ipython3",
   "version": "3.9.13"
  }
 },
 "nbformat": 4,
 "nbformat_minor": 5
}
