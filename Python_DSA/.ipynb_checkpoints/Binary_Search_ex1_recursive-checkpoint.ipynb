{
 "cells": [
  {
   "cell_type": "markdown",
   "id": "16376ecf",
   "metadata": {},
   "source": [
    "# Binary Search (Recursive)"
   ]
  },
  {
   "cell_type": "code",
   "execution_count": 1,
   "id": "fad6a910",
   "metadata": {},
   "outputs": [
    {
     "data": {
      "text/plain": [
       "[3, 6, 8, 12, 14, 17, 25, 29, 31, 36, 42, 47, 53, 55, 62]"
      ]
     },
     "execution_count": 1,
     "metadata": {},
     "output_type": "execute_result"
    }
   ],
   "source": [
    "array = [3,6,8,12,14,17,25,29,31,36,42,47,53,55,62]\n",
    "array"
   ]
  },
  {
   "cell_type": "code",
   "execution_count": 17,
   "id": "4d05da64",
   "metadata": {},
   "outputs": [],
   "source": [
    "key = 3"
   ]
  },
  {
   "cell_type": "code",
   "execution_count": 20,
   "id": "2a78033b",
   "metadata": {},
   "outputs": [],
   "source": [
    "def rbinarySearch(array, key, low, high):\n",
    "    if low == high:\n",
    "        if array[low] == key:\n",
    "            return low\n",
    "        else:\n",
    "            return -1\n",
    "    else:\n",
    "        mid = (low + high) // 2\n",
    "#         print(mid)\n",
    "        if array[mid] < key:\n",
    "            return rbinarySearch(array, key, mid+1, high)\n",
    "        else:\n",
    "            return rbinarySearch(array, key, low, mid-1)"
   ]
  },
  {
   "cell_type": "code",
   "execution_count": 21,
   "id": "b2d7d8df",
   "metadata": {},
   "outputs": [
    {
     "name": "stdout",
     "output_type": "stream",
     "text": [
      "7\n",
      "3\n",
      "1\n"
     ]
    },
    {
     "data": {
      "text/plain": [
       "0"
      ]
     },
     "execution_count": 21,
     "metadata": {},
     "output_type": "execute_result"
    }
   ],
   "source": [
    "result = rbinarySearch(array, key, 0, len(array)-1)\n",
    "result"
   ]
  },
  {
   "cell_type": "code",
   "execution_count": null,
   "id": "88c64938",
   "metadata": {},
   "outputs": [],
   "source": []
  }
 ],
 "metadata": {
  "kernelspec": {
   "display_name": "Python 3 (ipykernel)",
   "language": "python",
   "name": "python3"
  },
  "language_info": {
   "codemirror_mode": {
    "name": "ipython",
    "version": 3
   },
   "file_extension": ".py",
   "mimetype": "text/x-python",
   "name": "python",
   "nbconvert_exporter": "python",
   "pygments_lexer": "ipython3",
   "version": "3.9.13"
  }
 },
 "nbformat": 4,
 "nbformat_minor": 5
}
