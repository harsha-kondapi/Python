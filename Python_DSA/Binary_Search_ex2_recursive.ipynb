{
 "cells": [
  {
   "cell_type": "markdown",
   "id": "820c2d6e",
   "metadata": {},
   "source": [
    "# Binary Search (Recursive)"
   ]
  },
  {
   "cell_type": "code",
   "execution_count": 1,
   "id": "a13a38a4",
   "metadata": {},
   "outputs": [
    {
     "data": {
      "text/plain": [
       "[3, 6, 8, 12, 14, 17, 25, 29, 31, 36, 42, 47, 53, 55, 62]"
      ]
     },
     "execution_count": 1,
     "metadata": {},
     "output_type": "execute_result"
    }
   ],
   "source": [
    "array = [3,6,8,12,14,17,25,29,31,36,42,47,53,55,62]\n",
    "array"
   ]
  },
  {
   "cell_type": "code",
   "execution_count": 2,
   "id": "265fc1f8",
   "metadata": {},
   "outputs": [],
   "source": [
    "key = 29"
   ]
  },
  {
   "cell_type": "code",
   "execution_count": 3,
   "id": "da4ea945",
   "metadata": {},
   "outputs": [],
   "source": [
    "def rbinarySearch(array, key, low, high):\n",
    "    if low <= high: # we can also write high >= low\n",
    "        mid = (low + high)//2\n",
    "        \n",
    "        if array[mid] == key:\n",
    "            return mid\n",
    "        elif array[mid] < key:\n",
    "            return rbinarySearch(array, key, mid+1, high)\n",
    "        else:\n",
    "            return rbinarySearch(array, key, low, mid-1)\n",
    "    return -1"
   ]
  },
  {
   "cell_type": "code",
   "execution_count": 4,
   "id": "393851d0",
   "metadata": {},
   "outputs": [
    {
     "data": {
      "text/plain": [
       "7"
      ]
     },
     "execution_count": 4,
     "metadata": {},
     "output_type": "execute_result"
    }
   ],
   "source": [
    "result = rbinarySearch(array, key, 0, len(array)-1)\n",
    "result"
   ]
  },
  {
   "cell_type": "code",
   "execution_count": null,
   "id": "3e356e2b",
   "metadata": {},
   "outputs": [],
   "source": []
  }
 ],
 "metadata": {
  "kernelspec": {
   "display_name": "Python 3 (ipykernel)",
   "language": "python",
   "name": "python3"
  },
  "language_info": {
   "codemirror_mode": {
    "name": "ipython",
    "version": 3
   },
   "file_extension": ".py",
   "mimetype": "text/x-python",
   "name": "python",
   "nbconvert_exporter": "python",
   "pygments_lexer": "ipython3",
   "version": "3.9.13"
  }
 },
 "nbformat": 4,
 "nbformat_minor": 5
}
