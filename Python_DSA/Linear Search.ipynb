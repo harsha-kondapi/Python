{
 "cells": [
  {
   "cell_type": "markdown",
   "id": "1ba7fd65",
   "metadata": {},
   "source": [
    "# Linear Search"
   ]
  },
  {
   "cell_type": "code",
   "execution_count": 1,
   "id": "1c564cde",
   "metadata": {},
   "outputs": [],
   "source": [
    "array = [3,6,1,7,8,9,5]"
   ]
  },
  {
   "cell_type": "code",
   "execution_count": 2,
   "id": "cf0905fa",
   "metadata": {},
   "outputs": [
    {
     "name": "stdout",
     "output_type": "stream",
     "text": [
      "[3, 6, 1, 7, 8, 9, 5]\n"
     ]
    }
   ],
   "source": [
    "print(array)"
   ]
  },
  {
   "cell_type": "code",
   "execution_count": 12,
   "id": "b029a7c3",
   "metadata": {},
   "outputs": [],
   "source": [
    "x = 8"
   ]
  },
  {
   "cell_type": "code",
   "execution_count": 5,
   "id": "7b695fc9",
   "metadata": {},
   "outputs": [
    {
     "name": "stdout",
     "output_type": "stream",
     "text": [
      "7\n"
     ]
    }
   ],
   "source": [
    "n = len(array)\n",
    "print(n)"
   ]
  },
  {
   "cell_type": "code",
   "execution_count": 13,
   "id": "a8dbb0f2",
   "metadata": {},
   "outputs": [],
   "source": [
    "def LinearSearch(array, n, x):\n",
    "    for i in range(0,n):\n",
    "        if array[i] == x:\n",
    "            return i\n",
    "    return -1 #search element is not there"
   ]
  },
  {
   "cell_type": "code",
   "execution_count": 14,
   "id": "3f71f612",
   "metadata": {},
   "outputs": [
    {
     "name": "stdout",
     "output_type": "stream",
     "text": [
      "4\n"
     ]
    }
   ],
   "source": [
    "result = LinearSearch(array, n, x)\n",
    "print(result)"
   ]
  },
  {
   "cell_type": "code",
   "execution_count": 15,
   "id": "17dddab8",
   "metadata": {},
   "outputs": [
    {
     "name": "stdout",
     "output_type": "stream",
     "text": [
      "Element is found at index : 4\n"
     ]
    }
   ],
   "source": [
    "if result == -1:\n",
    "    print(\"Element is not found\")\n",
    "else:\n",
    "    print(f\"Element is found at index : {result}\")"
   ]
  },
  {
   "cell_type": "code",
   "execution_count": null,
   "id": "98024877",
   "metadata": {},
   "outputs": [],
   "source": []
  }
 ],
 "metadata": {
  "kernelspec": {
   "display_name": "Python 3 (ipykernel)",
   "language": "python",
   "name": "python3"
  },
  "language_info": {
   "codemirror_mode": {
    "name": "ipython",
    "version": 3
   },
   "file_extension": ".py",
   "mimetype": "text/x-python",
   "name": "python",
   "nbconvert_exporter": "python",
   "pygments_lexer": "ipython3",
   "version": "3.9.13"
  }
 },
 "nbformat": 4,
 "nbformat_minor": 5
}
