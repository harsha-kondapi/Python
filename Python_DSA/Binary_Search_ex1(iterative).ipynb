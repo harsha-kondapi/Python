{
 "cells": [
  {
   "cell_type": "markdown",
   "id": "e6728346",
   "metadata": {},
   "source": [
    "# Binary Search Iterative"
   ]
  },
  {
   "cell_type": "code",
   "execution_count": 37,
   "id": "b3864464",
   "metadata": {},
   "outputs": [
    {
     "data": {
      "text/plain": [
       "10"
      ]
     },
     "execution_count": 37,
     "metadata": {},
     "output_type": "execute_result"
    }
   ],
   "source": [
    "array = [3,4,5,6,7,8,9,10,11,12]\n",
    "len(array)"
   ]
  },
  {
   "cell_type": "code",
   "execution_count": 32,
   "id": "6069c276",
   "metadata": {},
   "outputs": [
    {
     "data": {
      "text/plain": [
       "[3, 4, 5, 6, 7, 8, 9, 10, 11, 12]"
      ]
     },
     "execution_count": 32,
     "metadata": {},
     "output_type": "execute_result"
    }
   ],
   "source": [
    "array"
   ]
  },
  {
   "cell_type": "code",
   "execution_count": 48,
   "id": "0b448b38",
   "metadata": {},
   "outputs": [],
   "source": [
    "x = 8"
   ]
  },
  {
   "cell_type": "code",
   "execution_count": 51,
   "id": "c3362a8d",
   "metadata": {},
   "outputs": [],
   "source": [
    "def binarySearch(array, x, low, high):\n",
    "    while low <= high:\n",
    "        mid = low + (high - low) // 2\n",
    "#         print(mid)\n",
    "        if array[mid] == x:\n",
    "            return mid\n",
    "        elif array[mid] < x:\n",
    "            low = mid + 1\n",
    "        else:\n",
    "            high = mid -1\n",
    "    return -1"
   ]
  },
  {
   "cell_type": "code",
   "execution_count": 52,
   "id": "ad536887",
   "metadata": {},
   "outputs": [
    {
     "data": {
      "text/plain": [
       "5"
      ]
     },
     "execution_count": 52,
     "metadata": {},
     "output_type": "execute_result"
    }
   ],
   "source": [
    "result = binarySearch(array, x, 0, len(array)-1)\n",
    "result"
   ]
  },
  {
   "cell_type": "code",
   "execution_count": 53,
   "id": "ce1a8d13",
   "metadata": {},
   "outputs": [
    {
     "name": "stdout",
     "output_type": "stream",
     "text": [
      "Element found at index : 5\n"
     ]
    }
   ],
   "source": [
    "if result == -1:\n",
    "    print(\"Element not found in the array\")\n",
    "else:\n",
    "    print(f\"Element found at index : {result}\")"
   ]
  },
  {
   "cell_type": "code",
   "execution_count": null,
   "id": "b48d8b1c",
   "metadata": {},
   "outputs": [],
   "source": []
  }
 ],
 "metadata": {
  "kernelspec": {
   "display_name": "Python 3 (ipykernel)",
   "language": "python",
   "name": "python3"
  },
  "language_info": {
   "codemirror_mode": {
    "name": "ipython",
    "version": 3
   },
   "file_extension": ".py",
   "mimetype": "text/x-python",
   "name": "python",
   "nbconvert_exporter": "python",
   "pygments_lexer": "ipython3",
   "version": "3.9.13"
  }
 },
 "nbformat": 4,
 "nbformat_minor": 5
}
