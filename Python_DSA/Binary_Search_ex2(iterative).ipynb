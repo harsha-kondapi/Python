{
 "cells": [
  {
   "cell_type": "markdown",
   "id": "648d385c",
   "metadata": {},
   "source": [
    "# Binary Search (Iterative)"
   ]
  },
  {
   "cell_type": "code",
   "execution_count": 7,
   "id": "f36b2673",
   "metadata": {},
   "outputs": [
    {
     "data": {
      "text/plain": [
       "[3, 6, 8, 12, 14, 17, 25, 29, 31, 36, 42, 47, 53, 55, 62]"
      ]
     },
     "execution_count": 7,
     "metadata": {},
     "output_type": "execute_result"
    }
   ],
   "source": [
    "array = [3,6,8,12,14,17,25,29,31,36,42,47,53,55,62]\n",
    "array"
   ]
  },
  {
   "cell_type": "code",
   "execution_count": 8,
   "id": "57b3e56d",
   "metadata": {},
   "outputs": [],
   "source": [
    "key = 42"
   ]
  },
  {
   "cell_type": "code",
   "execution_count": 15,
   "id": "6a1284b8",
   "metadata": {},
   "outputs": [],
   "source": [
    "def binarySearch(array, key, low, high):\n",
    "    while low <= high:\n",
    "        mid = (low + high)//2\n",
    "#         print(mid)\n",
    "        if array[mid] == key:\n",
    "            return mid\n",
    "        elif array[mid] <= key:\n",
    "            low = mid + 1\n",
    "        else:\n",
    "            high = mid - 1\n",
    "    return -1"
   ]
  },
  {
   "cell_type": "code",
   "execution_count": 16,
   "id": "70fc41a7",
   "metadata": {},
   "outputs": [
    {
     "data": {
      "text/plain": [
       "10"
      ]
     },
     "execution_count": 16,
     "metadata": {},
     "output_type": "execute_result"
    }
   ],
   "source": [
    "result = binarySearch(array, key, 0, len(array)-1)\n",
    "result"
   ]
  },
  {
   "cell_type": "code",
   "execution_count": 17,
   "id": "e286a652",
   "metadata": {},
   "outputs": [
    {
     "name": "stdout",
     "output_type": "stream",
     "text": [
      "Element found at the index : 10\n"
     ]
    }
   ],
   "source": [
    "if result == -1:\n",
    "    print(\"Element not found in the array\")\n",
    "else:\n",
    "    print(f\"Element found at the index : {result}\")"
   ]
  },
  {
   "cell_type": "code",
   "execution_count": 12,
   "id": "367f0081",
   "metadata": {},
   "outputs": [
    {
     "name": "stdout",
     "output_type": "stream",
     "text": [
      "hello\n"
     ]
    }
   ],
   "source": [
    "print(\"hello\")"
   ]
  },
  {
   "cell_type": "code",
   "execution_count": null,
   "id": "a486af6d",
   "metadata": {},
   "outputs": [],
   "source": []
  }
 ],
 "metadata": {
  "kernelspec": {
   "display_name": "Python 3 (ipykernel)",
   "language": "python",
   "name": "python3"
  },
  "language_info": {
   "codemirror_mode": {
    "name": "ipython",
    "version": 3
   },
   "file_extension": ".py",
   "mimetype": "text/x-python",
   "name": "python",
   "nbconvert_exporter": "python",
   "pygments_lexer": "ipython3",
   "version": "3.9.13"
  }
 },
 "nbformat": 4,
 "nbformat_minor": 5
}
