{
 "cells": [
  {
   "cell_type": "markdown",
   "id": "564c7af2",
   "metadata": {},
   "source": [
    "# Strings\n",
    "\n",
    "#### Strings are Immutable"
   ]
  },
  {
   "cell_type": "code",
   "execution_count": 2,
   "id": "141fab53",
   "metadata": {},
   "outputs": [
    {
     "data": {
      "text/plain": [
       "199"
      ]
     },
     "execution_count": 2,
     "metadata": {},
     "output_type": "execute_result"
    }
   ],
   "source": [
    "a = len(\"Welcome to POC Powerhouses! A community where we inspire each other to implement Proof of Concepts in our respective areas of interest. Let's unleash our potential and accelerate innovation together!\")\n",
    "a"
   ]
  },
  {
   "cell_type": "code",
   "execution_count": 3,
   "id": "db0f1ea4",
   "metadata": {},
   "outputs": [
    {
     "data": {
      "text/plain": [
       "'newfoundobject'"
      ]
     },
     "execution_count": 3,
     "metadata": {},
     "output_type": "execute_result"
    }
   ],
   "source": [
    "s = 'new'\n",
    "s += 'found'\n",
    "s += 'object'\n",
    "s"
   ]
  },
  {
   "cell_type": "code",
   "execution_count": 4,
   "id": "1562ed35",
   "metadata": {},
   "outputs": [
    {
     "name": "stdout",
     "output_type": "stream",
     "text": [
      "ABC;PQR;XYZ\n"
     ]
    },
    {
     "data": {
      "text/plain": [
       "'highwayroad'"
      ]
     },
     "execution_count": 4,
     "metadata": {},
     "output_type": "execute_result"
    }
   ],
   "source": [
    "#string join\n",
    "str = ';'.join(['ABC','PQR','XYZ'])\n",
    "print(str)\n",
    "''.join(['high','way','road'])"
   ]
  },
  {
   "cell_type": "code",
   "execution_count": 5,
   "id": "8311a1be",
   "metadata": {},
   "outputs": [
    {
     "data": {
      "text/plain": [
       "['ABC', 'PQR', 'XYZ']"
      ]
     },
     "execution_count": 5,
     "metadata": {},
     "output_type": "execute_result"
    }
   ],
   "source": [
    "#string split\n",
    "str1 = str.split(';')\n",
    "str1"
   ]
  },
  {
   "cell_type": "code",
   "execution_count": 6,
   "id": "5fc2822f",
   "metadata": {},
   "outputs": [
    {
     "data": {
      "text/plain": [
       "('un', 'forget', 'able')"
      ]
     },
     "execution_count": 6,
     "metadata": {},
     "output_type": "execute_result"
    }
   ],
   "source": [
    "#partition\n",
    "'unforgetable'.partition('forget')"
   ]
  },
  {
   "cell_type": "code",
   "execution_count": 7,
   "id": "6b0fa3dd",
   "metadata": {},
   "outputs": [
    {
     "name": "stdout",
     "output_type": "stream",
     "text": [
      "Londaon\n",
      ":\n",
      "Edinburgh\n"
     ]
    }
   ],
   "source": [
    "departure,separator,arrival = 'Londaon:Edinburgh'.partition(':')\n",
    "print(departure)\n",
    "print(separator)\n",
    "print(arrival)"
   ]
  },
  {
   "cell_type": "code",
   "execution_count": 8,
   "id": "6baa0a54",
   "metadata": {},
   "outputs": [
    {
     "data": {
      "text/plain": [
       "\"The age of Harsha is 24. Harsha's birthday is on October 7\""
      ]
     },
     "execution_count": 8,
     "metadata": {},
     "output_type": "execute_result"
    }
   ],
   "source": [
    "#### String Formatting\n",
    "\n",
    "\"The age of {0} is {1}. {0}'s birthday is on {2}\".format('Harsha',24,'October 7')"
   ]
  },
  {
   "cell_type": "code",
   "execution_count": 9,
   "id": "e6c049ce",
   "metadata": {},
   "outputs": [
    {
     "data": {
      "text/plain": [
       "'Reticulating Spline 4 of 23'"
      ]
     },
     "execution_count": 9,
     "metadata": {},
     "output_type": "execute_result"
    }
   ],
   "source": [
    "\"Reticulating Spline {} of {}\".format(4,23)"
   ]
  },
  {
   "cell_type": "code",
   "execution_count": 10,
   "id": "137b44e0",
   "metadata": {},
   "outputs": [
    {
     "data": {
      "text/plain": [
       "'Current Position 60N 5E'"
      ]
     },
     "execution_count": 10,
     "metadata": {},
     "output_type": "execute_result"
    }
   ],
   "source": [
    "\"Current Position {Latitude} {Longitude}\".format(Latitude=\"60N\",Longitude=\"5E\")"
   ]
  },
  {
   "cell_type": "code",
   "execution_count": 11,
   "id": "1ce62c67",
   "metadata": {},
   "outputs": [
    {
     "data": {
      "text/plain": [
       "'Galactic Position x=65.2, x=23.1, x=84.5'"
      ]
     },
     "execution_count": 11,
     "metadata": {},
     "output_type": "execute_result"
    }
   ],
   "source": [
    "\"Galactic Position x={pos[0]}, x={pos[1]}, x={pos[2]}\".format(pos=(65.2,23.1,84.5))"
   ]
  },
  {
   "cell_type": "code",
   "execution_count": 12,
   "id": "d3e1d9f6",
   "metadata": {},
   "outputs": [
    {
     "data": {
      "text/plain": [
       "'Math Constants pi=3.141592653589793 and e=2.718281828459045'"
      ]
     },
     "execution_count": 12,
     "metadata": {},
     "output_type": "execute_result"
    }
   ],
   "source": [
    "import math\n",
    "\"Math Constants pi={m.pi} and e={m.e}\".format(m=math)"
   ]
  },
  {
   "cell_type": "code",
   "execution_count": 13,
   "id": "cd3de901",
   "metadata": {},
   "outputs": [
    {
     "data": {
      "text/plain": [
       "'Math Constants pi=3.142 and e=2.718'"
      ]
     },
     "execution_count": 13,
     "metadata": {},
     "output_type": "execute_result"
    }
   ],
   "source": [
    "\"Math Constants pi={m.pi:.3f} and e={m.e:.3f}\".format(m=math)"
   ]
  },
  {
   "cell_type": "code",
   "execution_count": 14,
   "id": "ccb12be4",
   "metadata": {},
   "outputs": [
    {
     "data": {
      "text/plain": [
       "'result is 80'"
      ]
     },
     "execution_count": 14,
     "metadata": {},
     "output_type": "execute_result"
    }
   ],
   "source": [
    "v = 4 * 20\n",
    "\"result is {value}\".format(value=v)"
   ]
  },
  {
   "cell_type": "code",
   "execution_count": 15,
   "id": "b49e1743",
   "metadata": {},
   "outputs": [
    {
     "data": {
      "text/plain": [
       "'result is 80'"
      ]
     },
     "execution_count": 15,
     "metadata": {},
     "output_type": "execute_result"
    }
   ],
   "source": [
    "# f strings\n",
    "v = 4 * 20\n",
    "f\"result is {v}\""
   ]
  },
  {
   "cell_type": "code",
   "execution_count": 16,
   "id": "876b0206",
   "metadata": {},
   "outputs": [
    {
     "data": {
      "text/plain": [
       "'Math Constants 3.142 and 2.718'"
      ]
     },
     "execution_count": 16,
     "metadata": {},
     "output_type": "execute_result"
    }
   ],
   "source": [
    "# f string\n",
    "import math\n",
    "f\"Math Constants {math.pi:.3f} and {math.e:.3f}\""
   ]
  }
 ],
 "metadata": {
  "kernelspec": {
   "display_name": "Python 3 (ipykernel)",
   "language": "python",
   "name": "python3"
  },
  "language_info": {
   "codemirror_mode": {
    "name": "ipython",
    "version": 3
   },
   "file_extension": ".py",
   "mimetype": "text/x-python",
   "name": "python",
   "nbconvert_exporter": "python",
   "pygments_lexer": "ipython3",
   "version": "3.9.13"
  }
 },
 "nbformat": 4,
 "nbformat_minor": 5
}
