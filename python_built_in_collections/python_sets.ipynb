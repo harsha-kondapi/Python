{
 "cells": [
  {
   "cell_type": "markdown",
   "id": "32b46b76",
   "metadata": {},
   "source": [
    "# Sets\n",
    "\n",
    "#### Unordered collection of unique elements\n",
    "#### Sets are immutable\n",
    "#### Elements in a set must be mutable"
   ]
  },
  {
   "cell_type": "code",
   "execution_count": 176,
   "id": "489405e2",
   "metadata": {},
   "outputs": [
    {
     "data": {
      "text/plain": [
       "{6, 28, 496, 8128, 33440336}"
      ]
     },
     "execution_count": 176,
     "metadata": {},
     "output_type": "execute_result"
    }
   ],
   "source": [
    "p = {6,28,496,8128,33440336}\n",
    "p"
   ]
  },
  {
   "cell_type": "code",
   "execution_count": 177,
   "id": "43b5fc48",
   "metadata": {},
   "outputs": [
    {
     "data": {
      "text/plain": [
       "set"
      ]
     },
     "execution_count": 177,
     "metadata": {},
     "output_type": "execute_result"
    }
   ],
   "source": [
    "type(p)"
   ]
  },
  {
   "cell_type": "code",
   "execution_count": 178,
   "id": "43ea7b40",
   "metadata": {},
   "outputs": [
    {
     "data": {
      "text/plain": [
       "dict"
      ]
     },
     "execution_count": 178,
     "metadata": {},
     "output_type": "execute_result"
    }
   ],
   "source": [
    "d = {}\n",
    "type(d)"
   ]
  },
  {
   "cell_type": "code",
   "execution_count": 180,
   "id": "930fb93f",
   "metadata": {},
   "outputs": [
    {
     "data": {
      "text/plain": [
       "set()"
      ]
     },
     "execution_count": 180,
     "metadata": {},
     "output_type": "execute_result"
    }
   ],
   "source": [
    "e = set()\n",
    "e"
   ]
  },
  {
   "cell_type": "code",
   "execution_count": 182,
   "id": "1cdffa3e",
   "metadata": {},
   "outputs": [
    {
     "data": {
      "text/plain": [
       "{16, 24, 64, 4096, 65536, 262144}"
      ]
     },
     "execution_count": 182,
     "metadata": {},
     "output_type": "execute_result"
    }
   ],
   "source": [
    "s = set([64,16,24,4096,65536,262144])\n",
    "s"
   ]
  },
  {
   "cell_type": "code",
   "execution_count": 183,
   "id": "f1f19acf",
   "metadata": {},
   "outputs": [
    {
     "data": {
      "text/plain": [
       "{1, 2, 4, 7, 9}"
      ]
     },
     "execution_count": 183,
     "metadata": {},
     "output_type": "execute_result"
    }
   ],
   "source": [
    "t = [1,4,2,1,7,9,9]\n",
    "set(t)  # set constructor"
   ]
  },
  {
   "cell_type": "code",
   "execution_count": 184,
   "id": "589cbc04",
   "metadata": {},
   "outputs": [
    {
     "name": "stdout",
     "output_type": "stream",
     "text": [
      "32\n",
      "1\n",
      "2\n",
      "4\n",
      "8\n",
      "16\n"
     ]
    }
   ],
   "source": [
    "for x in {1,2,4,8,16,32}:\n",
    "    print(x)"
   ]
  },
  {
   "cell_type": "code",
   "execution_count": 185,
   "id": "a8990d28",
   "metadata": {},
   "outputs": [
    {
     "data": {
      "text/plain": [
       "False"
      ]
     },
     "execution_count": 185,
     "metadata": {},
     "output_type": "execute_result"
    }
   ],
   "source": [
    "q = {2,9,6,4}\n",
    "3 in q\n"
   ]
  },
  {
   "cell_type": "code",
   "execution_count": 186,
   "id": "1733a27e",
   "metadata": {},
   "outputs": [
    {
     "data": {
      "text/plain": [
       "True"
      ]
     },
     "execution_count": 186,
     "metadata": {},
     "output_type": "execute_result"
    }
   ],
   "source": [
    "3 not in q"
   ]
  },
  {
   "cell_type": "code",
   "execution_count": 187,
   "id": "3de80af0",
   "metadata": {},
   "outputs": [
    {
     "data": {
      "text/plain": [
       "{81, 108}"
      ]
     },
     "execution_count": 187,
     "metadata": {},
     "output_type": "execute_result"
    }
   ],
   "source": [
    "k = {81,108}\n",
    "k"
   ]
  },
  {
   "cell_type": "code",
   "execution_count": 188,
   "id": "68d89f04",
   "metadata": {},
   "outputs": [
    {
     "data": {
      "text/plain": [
       "{54, 81, 108}"
      ]
     },
     "execution_count": 188,
     "metadata": {},
     "output_type": "execute_result"
    }
   ],
   "source": [
    "k.add(54)\n",
    "k"
   ]
  },
  {
   "cell_type": "code",
   "execution_count": 191,
   "id": "fdb7da45",
   "metadata": {},
   "outputs": [
    {
     "data": {
      "text/plain": [
       "{12, 54, 81, 108}"
      ]
     },
     "execution_count": 191,
     "metadata": {},
     "output_type": "execute_result"
    }
   ],
   "source": [
    "k.add(12)\n",
    "k"
   ]
  },
  {
   "cell_type": "code",
   "execution_count": 193,
   "id": "af48fa47",
   "metadata": {},
   "outputs": [
    {
     "data": {
      "text/plain": [
       "{12, 54, 81, 108}"
      ]
     },
     "execution_count": 193,
     "metadata": {},
     "output_type": "execute_result"
    }
   ],
   "source": [
    "k.add(108)\n",
    "k"
   ]
  },
  {
   "cell_type": "code",
   "execution_count": 194,
   "id": "2534770f",
   "metadata": {},
   "outputs": [
    {
     "data": {
      "text/plain": [
       "{12, 37, 54, 81, 97, 108, 128}"
      ]
     },
     "execution_count": 194,
     "metadata": {},
     "output_type": "execute_result"
    }
   ],
   "source": [
    "k.update([37,128,97])\n",
    "k"
   ]
  },
  {
   "cell_type": "code",
   "execution_count": 196,
   "id": "9fb5bbc9",
   "metadata": {},
   "outputs": [],
   "source": [
    "blue_eyes = {'olivia','Harry','Lily','Jack','Amelia'}\n",
    "blond_hair = {'Harry','Jack','Amelia','Mia','Joshua'}\n",
    "smell_hcn = {'Harry','Amelia'}\n",
    "taste_ptc = {'Harry','Lily','Amelia','Lola'}\n",
    "o_blood = {'Mia','Joshua','Lily','Olivia'}\n",
    "b_blood = {'Amelia','Jack'}\n",
    "a_blood = {'Harry'}\n",
    "ab_blood = {'Joshua','Lola'}\n"
   ]
  },
  {
   "cell_type": "code",
   "execution_count": 197,
   "id": "f91f45ae",
   "metadata": {},
   "outputs": [
    {
     "data": {
      "text/plain": [
       "{'Amelia', 'Harry', 'Jack', 'Joshua', 'Lily', 'Mia', 'olivia'}"
      ]
     },
     "execution_count": 197,
     "metadata": {},
     "output_type": "execute_result"
    }
   ],
   "source": [
    "# to find all the people with blond hair and blue eyes or both, we can use union method\n",
    "blue_eyes.union(blond_hair)"
   ]
  },
  {
   "cell_type": "code",
   "execution_count": 198,
   "id": "e6d3855e",
   "metadata": {},
   "outputs": [
    {
     "data": {
      "text/plain": [
       "True"
      ]
     },
     "execution_count": 198,
     "metadata": {},
     "output_type": "execute_result"
    }
   ],
   "source": [
    "# demonstrating union is commutative operation \n",
    "blue_eyes.union(blond_hair) == blond_hair.union(blue_eyes)"
   ]
  },
  {
   "cell_type": "code",
   "execution_count": 199,
   "id": "d2db4e3e",
   "metadata": {},
   "outputs": [
    {
     "data": {
      "text/plain": [
       "{'Amelia', 'Harry', 'Jack'}"
      ]
     },
     "execution_count": 199,
     "metadata": {},
     "output_type": "execute_result"
    }
   ],
   "source": [
    "# to find all the people with blond hair and blue eyes\n",
    "blue_eyes.intersection(blond_hair)"
   ]
  },
  {
   "cell_type": "code",
   "execution_count": 200,
   "id": "de94ffac",
   "metadata": {},
   "outputs": [
    {
     "data": {
      "text/plain": [
       "True"
      ]
     },
     "execution_count": 200,
     "metadata": {},
     "output_type": "execute_result"
    }
   ],
   "source": [
    "# demonstrating intersection is commutative operation\n",
    "blue_eyes.intersection(blond_hair) == blond_hair.intersection(blue_eyes)"
   ]
  },
  {
   "cell_type": "code",
   "execution_count": 201,
   "id": "14440eb3",
   "metadata": {},
   "outputs": [
    {
     "data": {
      "text/plain": [
       "{'Joshua', 'Mia'}"
      ]
     },
     "execution_count": 201,
     "metadata": {},
     "output_type": "execute_result"
    }
   ],
   "source": [
    "# to identify people with blond hair who dont have blue eyes\n",
    "blond_hair.difference(blue_eyes)"
   ]
  },
  {
   "cell_type": "code",
   "execution_count": 203,
   "id": "921b61a0",
   "metadata": {},
   "outputs": [
    {
     "data": {
      "text/plain": [
       "False"
      ]
     },
     "execution_count": 203,
     "metadata": {},
     "output_type": "execute_result"
    }
   ],
   "source": [
    "# demonstrating intersection is not commutative operation\n",
    "blond_hair.difference(blue_eyes) == blue_eyes.difference(blond_hair)"
   ]
  },
  {
   "cell_type": "code",
   "execution_count": 207,
   "id": "0e4a932c",
   "metadata": {},
   "outputs": [
    {
     "data": {
      "text/plain": [
       "{'Joshua', 'Lily', 'Mia', 'olivia'}"
      ]
     },
     "execution_count": 207,
     "metadata": {},
     "output_type": "execute_result"
    }
   ],
   "source": [
    "# to identify people with blond hair who dont have blue eyes\n",
    "blond_hair.symmetric_difference(blue_eyes)"
   ]
  },
  {
   "cell_type": "code",
   "execution_count": 209,
   "id": "b88fded0",
   "metadata": {},
   "outputs": [
    {
     "data": {
      "text/plain": [
       "True"
      ]
     },
     "execution_count": 209,
     "metadata": {},
     "output_type": "execute_result"
    }
   ],
   "source": [
    "# demonstrating symmetric_difference is indeed commutative operation\n",
    "blond_hair.symmetric_difference(blue_eyes) == blue_eyes.symmetric_difference(blond_hair)"
   ]
  },
  {
   "cell_type": "markdown",
   "id": "12379edf",
   "metadata": {},
   "source": [
    "# 3 peedicate methods, these tell us about relationships between sets"
   ]
  },
  {
   "cell_type": "code",
   "execution_count": 210,
   "id": "4552f409",
   "metadata": {},
   "outputs": [
    {
     "data": {
      "text/plain": [
       "True"
      ]
     },
     "execution_count": 210,
     "metadata": {},
     "output_type": "execute_result"
    }
   ],
   "source": [
    "# we can check wether one set is subset of another using 'issubet method'\n",
    "# to check whether all of the people who can smell hydrogen cyanide also have blond hair\n",
    "# we call issubset on smell_hcn, passing blond_hair as a parameter\n",
    "\n",
    "smell_hcn.issubset(blond_hair)\n"
   ]
  },
  {
   "cell_type": "code",
   "execution_count": 212,
   "id": "8c7f2c04",
   "metadata": {},
   "outputs": [
    {
     "data": {
      "text/plain": [
       "True"
      ]
     },
     "execution_count": 212,
     "metadata": {},
     "output_type": "execute_result"
    }
   ],
   "source": [
    "# to test whether all the people who could taste phenylthiocarbamide can also taste hydrogen cyanide\n",
    "# this checks whether all the elements of 2nd set are present in 1st set\n",
    "taste_ptc.issuperset(smell_hcn)"
   ]
  },
  {
   "cell_type": "code",
   "execution_count": 214,
   "id": "ce5583dc",
   "metadata": {},
   "outputs": [
    {
     "data": {
      "text/plain": [
       "True"
      ]
     },
     "execution_count": 214,
     "metadata": {},
     "output_type": "execute_result"
    }
   ],
   "source": [
    "a_blood.isdisjoint(o_blood)"
   ]
  },
  {
   "cell_type": "code",
   "execution_count": null,
   "id": "bed49cbf",
   "metadata": {},
   "outputs": [],
   "source": []
  },
  {
   "cell_type": "code",
   "execution_count": null,
   "id": "702368e2",
   "metadata": {},
   "outputs": [],
   "source": []
  },
  {
   "cell_type": "code",
   "execution_count": null,
   "id": "7306ba07",
   "metadata": {},
   "outputs": [],
   "source": []
  },
  {
   "cell_type": "code",
   "execution_count": null,
   "id": "1c1da215",
   "metadata": {},
   "outputs": [],
   "source": []
  },
  {
   "cell_type": "markdown",
   "id": "b865640b",
   "metadata": {},
   "source": [
    "# Sets Comprehensions"
   ]
  },
  {
   "cell_type": "code",
   "execution_count": 3,
   "id": "5ea451a7",
   "metadata": {},
   "outputs": [],
   "source": [
    "s = {i**2 for i in range(10)}"
   ]
  },
  {
   "cell_type": "code",
   "execution_count": 4,
   "id": "8a18b389",
   "metadata": {},
   "outputs": [
    {
     "data": {
      "text/plain": [
       "{0, 1, 4, 9, 16, 25, 36, 49, 64, 81}"
      ]
     },
     "execution_count": 4,
     "metadata": {},
     "output_type": "execute_result"
    }
   ],
   "source": [
    "s"
   ]
  },
  {
   "cell_type": "markdown",
   "id": "a269d27d",
   "metadata": {},
   "source": [
    "# Filtering Comprehensions"
   ]
  },
  {
   "cell_type": "code",
   "execution_count": 20,
   "id": "673ebff8",
   "metadata": {
    "scrolled": true
   },
   "outputs": [
    {
     "data": {
      "text/plain": [
       "[2,\n",
       " 3,\n",
       " 5,\n",
       " 7,\n",
       " 11,\n",
       " 13,\n",
       " 17,\n",
       " 19,\n",
       " 23,\n",
       " 29,\n",
       " 31,\n",
       " 37,\n",
       " 41,\n",
       " 43,\n",
       " 47,\n",
       " 53,\n",
       " 59,\n",
       " 61,\n",
       " 67,\n",
       " 71,\n",
       " 73,\n",
       " 79,\n",
       " 83,\n",
       " 89,\n",
       " 97]"
      ]
     },
     "execution_count": 20,
     "metadata": {},
     "output_type": "execute_result"
    }
   ],
   "source": [
    "import math\n",
    "def is_prime(x):\n",
    "    if x < 2:\n",
    "        return False\n",
    "    for i in range(2, int(math.sqrt(x))+1):\n",
    "        if x % i == 0:\n",
    "            return False\n",
    "    return True\n",
    "\n",
    "[x for x in range(101) if is_prime(x)] # Filtering Comprehension"
   ]
  },
  {
   "cell_type": "code",
   "execution_count": 10,
   "id": "f7d609a2",
   "metadata": {},
   "outputs": [
    {
     "data": {
      "text/plain": [
       "2"
      ]
     },
     "execution_count": 10,
     "metadata": {},
     "output_type": "execute_result"
    }
   ],
   "source": [
    "int(2.6457513111)"
   ]
  },
  {
   "cell_type": "code",
   "execution_count": null,
   "id": "6e599163",
   "metadata": {},
   "outputs": [],
   "source": []
  }
 ],
 "metadata": {
  "kernelspec": {
   "display_name": "Python 3 (ipykernel)",
   "language": "python",
   "name": "python3"
  },
  "language_info": {
   "codemirror_mode": {
    "name": "ipython",
    "version": 3
   },
   "file_extension": ".py",
   "mimetype": "text/x-python",
   "name": "python",
   "nbconvert_exporter": "python",
   "pygments_lexer": "ipython3",
   "version": "3.9.13"
  }
 },
 "nbformat": 4,
 "nbformat_minor": 5
}
