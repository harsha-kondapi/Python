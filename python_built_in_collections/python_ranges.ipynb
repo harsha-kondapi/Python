{
 "cells": [
  {
   "cell_type": "markdown",
   "id": "3f208720",
   "metadata": {},
   "source": [
    "# Ranges"
   ]
  },
  {
   "cell_type": "code",
   "execution_count": 2,
   "id": "7c462356",
   "metadata": {},
   "outputs": [
    {
     "data": {
      "text/plain": [
       "range(0, 5)"
      ]
     },
     "execution_count": 2,
     "metadata": {},
     "output_type": "execute_result"
    }
   ],
   "source": [
    "# range() signature\n",
    "# range(stop)\n",
    "range(5)"
   ]
  },
  {
   "cell_type": "code",
   "execution_count": 3,
   "id": "12cab9e2",
   "metadata": {},
   "outputs": [
    {
     "data": {
      "text/plain": [
       "range(5, 10)"
      ]
     },
     "execution_count": 3,
     "metadata": {},
     "output_type": "execute_result"
    }
   ],
   "source": [
    "# range(start,stop)\n",
    "range(5,10)"
   ]
  },
  {
   "cell_type": "code",
   "execution_count": 4,
   "id": "4704a8a5",
   "metadata": {},
   "outputs": [
    {
     "name": "stdout",
     "output_type": "stream",
     "text": [
      "5\n",
      "6\n",
      "7\n",
      "8\n",
      "9\n"
     ]
    }
   ],
   "source": [
    "for i in range(5,10):\n",
    "    print(i)"
   ]
  },
  {
   "cell_type": "code",
   "execution_count": 5,
   "id": "cd604f8b",
   "metadata": {},
   "outputs": [
    {
     "data": {
      "text/plain": [
       "[11, 12, 13, 14, 15, 16, 17, 18, 19]"
      ]
     },
     "execution_count": 5,
     "metadata": {},
     "output_type": "execute_result"
    }
   ],
   "source": [
    "list(range(11,20))"
   ]
  },
  {
   "cell_type": "code",
   "execution_count": 6,
   "id": "15287ffc",
   "metadata": {},
   "outputs": [
    {
     "data": {
      "text/plain": [
       "[0, 2, 4, 6, 8]"
      ]
     },
     "execution_count": 6,
     "metadata": {},
     "output_type": "execute_result"
    }
   ],
   "source": [
    "#range(start,stop,step)\n",
    "list(range(0,10,2))"
   ]
  },
  {
   "cell_type": "code",
   "execution_count": 7,
   "id": "6b687771",
   "metadata": {},
   "outputs": [
    {
     "data": {
      "text/plain": [
       "[1, 3, 5, 7, 9]"
      ]
     },
     "execution_count": 7,
     "metadata": {},
     "output_type": "execute_result"
    }
   ],
   "source": [
    "list(range(1,10,2))"
   ]
  },
  {
   "cell_type": "code",
   "execution_count": 8,
   "id": "d2acc350",
   "metadata": {},
   "outputs": [
    {
     "name": "stdout",
     "output_type": "stream",
     "text": [
      "0\n",
      "1\n",
      "4\n",
      "6\n",
      "13\n"
     ]
    }
   ],
   "source": [
    "s = [0,1,4,6,13]\n",
    "for i in range(len(s)):       # un-Pythonic     \n",
    "    print(s[i])"
   ]
  },
  {
   "cell_type": "code",
   "execution_count": 9,
   "id": "3b743511",
   "metadata": {},
   "outputs": [
    {
     "name": "stdout",
     "output_type": "stream",
     "text": [
      "0\n",
      "1\n",
      "4\n",
      "6\n",
      "13\n"
     ]
    }
   ],
   "source": [
    "s = [0,1,4,6,13]\n",
    "for i in s:                   # Pythonic\n",
    "    print(i)"
   ]
  },
  {
   "cell_type": "code",
   "execution_count": 10,
   "id": "aa8d7ebe",
   "metadata": {},
   "outputs": [
    {
     "name": "stdout",
     "output_type": "stream",
     "text": [
      "(0, 6)\n",
      "(1, 372)\n",
      "(2, 8862)\n",
      "(3, 148800)\n",
      "(4, 2096886)\n"
     ]
    }
   ],
   "source": [
    "# enumerate\n",
    "# enumerate fucntion return a tuple pair. The 1st element of enumerate pair is 'index' and 2nd element of enumerate pair is 'value'\n",
    "# i.e (index,value)\n",
    "s = [6,372,8862,148800,2096886]\n",
    "for v in enumerate(s):\n",
    "    print(v)"
   ]
  },
  {
   "cell_type": "code",
   "execution_count": 11,
   "id": "eaaef72d",
   "metadata": {},
   "outputs": [
    {
     "name": "stdout",
     "output_type": "stream",
     "text": [
      "i = 0, v = 6\n",
      "i = 1, v = 372\n",
      "i = 2, v = 8862\n",
      "i = 3, v = 148800\n",
      "i = 4, v = 2096886\n"
     ]
    }
   ],
   "source": [
    "s = [6,372,8862,148800,2096886]\n",
    "for i,v in enumerate(s):      # tuple unpacking\n",
    "    print(f\"i = {i}, v = {v}\")"
   ]
  }
 ],
 "metadata": {
  "kernelspec": {
   "display_name": "Python 3 (ipykernel)",
   "language": "python",
   "name": "python3"
  },
  "language_info": {
   "codemirror_mode": {
    "name": "ipython",
    "version": 3
   },
   "file_extension": ".py",
   "mimetype": "text/x-python",
   "name": "python",
   "nbconvert_exporter": "python",
   "pygments_lexer": "ipython3",
   "version": "3.9.13"
  }
 },
 "nbformat": 4,
 "nbformat_minor": 5
}
