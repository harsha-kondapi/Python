{
 "cells": [
  {
   "cell_type": "markdown",
   "id": "dd1b0bd9",
   "metadata": {},
   "source": [
    "# Lambda function"
   ]
  },
  {
   "cell_type": "markdown",
   "id": "93b8aed4",
   "metadata": {},
   "source": [
    "#### syntax\n",
    "#### lambda argument : expression"
   ]
  },
  {
   "cell_type": "code",
   "execution_count": 1,
   "id": "f3a00e2a",
   "metadata": {},
   "outputs": [
    {
     "name": "stdout",
     "output_type": "stream",
     "text": [
      "4\n"
     ]
    }
   ],
   "source": [
    "x = lambda a : a + a\n",
    "print(x(2))"
   ]
  },
  {
   "cell_type": "code",
   "execution_count": 3,
   "id": "74f2a856",
   "metadata": {},
   "outputs": [
    {
     "name": "stdout",
     "output_type": "stream",
     "text": [
      "5\n"
     ]
    }
   ],
   "source": [
    "y = lambda a,b : a + b\n",
    "print(y(2,3))"
   ]
  },
  {
   "cell_type": "code",
   "execution_count": 7,
   "id": "0c3768ca",
   "metadata": {},
   "outputs": [
    {
     "name": "stdout",
     "output_type": "stream",
     "text": [
      "20\n"
     ]
    }
   ],
   "source": [
    "def fun(n):\n",
    "    return lambda a : a * n\n",
    "\n",
    "z = fun(10)  # passing 'n' value\n",
    "print(z(2))  # passing 'a' value"
   ]
  },
  {
   "cell_type": "markdown",
   "id": "637b85de",
   "metadata": {},
   "source": [
    "# Filter function"
   ]
  },
  {
   "cell_type": "markdown",
   "id": "b19fb54f",
   "metadata": {},
   "source": [
    "#### syntax\n",
    "#### filter(function,iterable)"
   ]
  },
  {
   "cell_type": "code",
   "execution_count": 8,
   "id": "ecff5394",
   "metadata": {},
   "outputs": [
    {
     "name": "stdout",
     "output_type": "stream",
     "text": [
      "<filter object at 0x0000020633802AF0>\n"
     ]
    }
   ],
   "source": [
    "l = [1,2,3,4,5,6,7,8,9,10]\n",
    "\n",
    "f = filter(None,l)\n",
    "print(f)"
   ]
  },
  {
   "cell_type": "code",
   "execution_count": 9,
   "id": "d36b4f77",
   "metadata": {},
   "outputs": [
    {
     "name": "stdout",
     "output_type": "stream",
     "text": [
      "[1, 2, 3, 4, 5, 6, 7, 8, 9, 10]\n"
     ]
    }
   ],
   "source": [
    "print(list(f))"
   ]
  },
  {
   "cell_type": "code",
   "execution_count": 11,
   "id": "abb21ed0",
   "metadata": {},
   "outputs": [
    {
     "name": "stdout",
     "output_type": "stream",
     "text": [
      "[7, 8, 9, 10]\n"
     ]
    }
   ],
   "source": [
    "def greater(t):\n",
    "    if t > 6:\n",
    "        return t\n",
    "\n",
    "g = filter(greater,l)\n",
    "print(list(g))\n",
    "        "
   ]
  },
  {
   "cell_type": "code",
   "execution_count": 12,
   "id": "f0ae53cf",
   "metadata": {},
   "outputs": [
    {
     "name": "stdout",
     "output_type": "stream",
     "text": [
      "[2, 4, 6, 8, 10]\n"
     ]
    }
   ],
   "source": [
    "s = filter(lambda e:e%2 == 0,l)\n",
    "print(list(s))"
   ]
  },
  {
   "cell_type": "code",
   "execution_count": null,
   "id": "0902be9b",
   "metadata": {},
   "outputs": [],
   "source": []
  }
 ],
 "metadata": {
  "kernelspec": {
   "display_name": "Python 3 (ipykernel)",
   "language": "python",
   "name": "python3"
  },
  "language_info": {
   "codemirror_mode": {
    "name": "ipython",
    "version": 3
   },
   "file_extension": ".py",
   "mimetype": "text/x-python",
   "name": "python",
   "nbconvert_exporter": "python",
   "pygments_lexer": "ipython3",
   "version": "3.9.13"
  }
 },
 "nbformat": 4,
 "nbformat_minor": 5
}
