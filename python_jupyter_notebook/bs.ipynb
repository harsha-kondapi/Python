{
 "cells": [
  {
   "cell_type": "markdown",
   "id": "96b8fbf5",
   "metadata": {},
   "source": [
    "# Brainstorming"
   ]
  },
  {
   "cell_type": "code",
   "execution_count": 220,
   "id": "6ad5e2f0",
   "metadata": {},
   "outputs": [
    {
     "name": "stdout",
     "output_type": "stream",
     "text": [
      "['10.0.1.255', '16']\n",
      "['10', '0', '1', '255']\n",
      "16\n",
      "vpc cidr range\n"
     ]
    }
   ],
   "source": [
    "# requirement: validate whether the given IP Address is IPV4 address or not\n",
    "custom = \"10.0.1.255/16\"\n",
    "ip = custom.split(\"/\")\n",
    "print(ip)\n",
    "\n",
    "ipv4 = ip[0].split(\".\")\n",
    "print(ipv4)\n",
    "\n",
    "cidr_block = int(ip[1])\n",
    "# print(type(block))\n",
    "print(cidr_block)\n",
    "\n",
    "if cidr_block == 16:\n",
    "    print(\"vpc cidr range\")\n",
    "elif cidr_block == 24:\n",
    "    print(\"subnet cidr range\")"
   ]
  },
  {
   "cell_type": "code",
   "execution_count": 221,
   "id": "c6d7a86a",
   "metadata": {},
   "outputs": [
    {
     "name": "stdout",
     "output_type": "stream",
     "text": [
      "10.0.1.255 is a IPV4 IP Address\n"
     ]
    }
   ],
   "source": [
    "if len(ipv4) == 4:\n",
    "    c = 0\n",
    "    for i in range(len(ipv4)):\n",
    "        if int(ipv4[i]) <= 255:\n",
    "            pass\n",
    "        else:\n",
    "            c = c + 1\n",
    "    if c <= 0:\n",
    "        print(f\"{ip[0]} is a IPV4 IP Address\")\n",
    "    else:\n",
    "        print(f\"{ip[0]} is not a IPV4 IP Address\")\n",
    "            \n",
    "else:\n",
    "    print(\"IPV4 will contain only 4 octets\")\n",
    "    print(f\"{ip[0]} is not a IPV4 IP Address\")\n",
    "            "
   ]
  },
  {
   "cell_type": "code",
   "execution_count": null,
   "id": "b1a3dee4",
   "metadata": {},
   "outputs": [],
   "source": []
  }
 ],
 "metadata": {
  "kernelspec": {
   "display_name": "Python 3 (ipykernel)",
   "language": "python",
   "name": "python3"
  },
  "language_info": {
   "codemirror_mode": {
    "name": "ipython",
    "version": 3
   },
   "file_extension": ".py",
   "mimetype": "text/x-python",
   "name": "python",
   "nbconvert_exporter": "python",
   "pygments_lexer": "ipython3",
   "version": "3.9.13"
  }
 },
 "nbformat": 4,
 "nbformat_minor": 5
}
