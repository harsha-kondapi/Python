{
 "cells": [
  {
   "cell_type": "markdown",
   "id": "48f542cb",
   "metadata": {},
   "source": [
    "# Dictionaries\n",
    "\n",
    "#### Dictionary itself is mutable\n",
    "#### keys in dictionary are immutable\n",
    "#### values in dictionary are mutable\n"
   ]
  },
  {
   "cell_type": "code",
   "execution_count": 17,
   "id": "36265dbe",
   "metadata": {},
   "outputs": [
    {
     "data": {
      "text/plain": [
       "{'name': 'harsha', 'age': 22, 'company': 'Capgemini'}"
      ]
     },
     "execution_count": 17,
     "metadata": {},
     "output_type": "execute_result"
    }
   ],
   "source": [
    "employee = {\"name\":\"harsha\",\"age\":22,\"company\":\"Capgemini\"}\n",
    "\n",
    "employee"
   ]
  },
  {
   "cell_type": "code",
   "execution_count": 18,
   "id": "4327505b",
   "metadata": {},
   "outputs": [
    {
     "data": {
      "text/plain": [
       "{'name': 'harsha', 'age': 22, 'company': 'Amazon'}"
      ]
     },
     "execution_count": 18,
     "metadata": {},
     "output_type": "execute_result"
    }
   ],
   "source": [
    "employee[\"company\"] = \"Amazon\"\n",
    "employee"
   ]
  },
  {
   "cell_type": "code",
   "execution_count": 19,
   "id": "36607489",
   "metadata": {},
   "outputs": [
    {
     "data": {
      "text/plain": [
       "{'name': 'harsha', 'age': 22, 'company': 'Amazon', 'role': 'developer'}"
      ]
     },
     "execution_count": 19,
     "metadata": {},
     "output_type": "execute_result"
    }
   ],
   "source": [
    "employee[\"role\"] = \"developer\"\n",
    "employee"
   ]
  },
  {
   "cell_type": "code",
   "execution_count": 20,
   "id": "eb2b74f0",
   "metadata": {},
   "outputs": [
    {
     "name": "stdout",
     "output_type": "stream",
     "text": [
      "name\n",
      "age\n",
      "company\n",
      "role\n"
     ]
    }
   ],
   "source": [
    "for k in employee:\n",
    "    print(k)"
   ]
  },
  {
   "cell_type": "code",
   "execution_count": 21,
   "id": "78fe2306",
   "metadata": {},
   "outputs": [
    {
     "name": "stdout",
     "output_type": "stream",
     "text": [
      "harsha\n",
      "22\n",
      "Amazon\n",
      "developer\n"
     ]
    }
   ],
   "source": [
    "for v in employee:\n",
    "    print(employee[v])"
   ]
  },
  {
   "cell_type": "code",
   "execution_count": 22,
   "id": "f429534f",
   "metadata": {},
   "outputs": [
    {
     "name": "stdout",
     "output_type": "stream",
     "text": [
      "name harsha\n",
      "age 22\n",
      "company Amazon\n",
      "role developer\n",
      "\n",
      "nextline\n",
      "\n",
      "name harsha\n",
      "age 22\n",
      "company Amazon\n",
      "role developer\n"
     ]
    }
   ],
   "source": [
    "for x,y in employee.items():\n",
    "    print(x,y)\n",
    "print(\"\\nnextline\\n\")\n",
    "    #or\n",
    "for x in employee:\n",
    "    print(x,employee[x])"
   ]
  },
  {
   "cell_type": "code",
   "execution_count": 23,
   "id": "6ae7595d",
   "metadata": {},
   "outputs": [
    {
     "data": {
      "text/plain": [
       "dict_items([('name', 'harsha'), ('age', 22), ('company', 'Amazon'), ('role', 'developer')])"
      ]
     },
     "execution_count": 23,
     "metadata": {},
     "output_type": "execute_result"
    }
   ],
   "source": [
    "employee.items() # converting dictionary into list of items using 'items()' method"
   ]
  },
  {
   "cell_type": "code",
   "execution_count": 24,
   "id": "40ffce1f",
   "metadata": {},
   "outputs": [
    {
     "name": "stdout",
     "output_type": "stream",
     "text": [
      "['A', 'B', 'C']\n",
      "[100, 200, 100]\n"
     ]
    }
   ],
   "source": [
    "d = {\"A\":100,\"B\":200,\"C\":100}  # here \"A\":100 is 1st item, \"B\":200 is 2nd item, \"C\": 100 is 3rd item\n",
    "l = [x[0] for x in d.items()]  # in \"A\":100 item 0 index is A and in \"B\":200 item 0 index is B and in \"C\":100 item 0 index is C   \n",
    "m = [x[1] for x in d.items()]  # in \"A\":100 item 1 index is 100\n",
    "\n",
    "print(l)\n",
    "print(m)"
   ]
  },
  {
   "cell_type": "code",
   "execution_count": 25,
   "id": "67796d41",
   "metadata": {},
   "outputs": [
    {
     "data": {
      "text/plain": [
       "['A', 'B', 'C']"
      ]
     },
     "execution_count": 25,
     "metadata": {},
     "output_type": "execute_result"
    }
   ],
   "source": [
    "p = [x for x in d] # list comprehension \n",
    "p"
   ]
  },
  {
   "cell_type": "code",
   "execution_count": 26,
   "id": "cf23c5ea",
   "metadata": {},
   "outputs": [
    {
     "name": "stdout",
     "output_type": "stream",
     "text": [
      "['A', 'C']\n"
     ]
    }
   ],
   "source": [
    "t = [x[0] for x in d.items() if x[1] == 100]\n",
    "\n",
    "print(t)"
   ]
  },
  {
   "cell_type": "code",
   "execution_count": 27,
   "id": "81eb4c81",
   "metadata": {},
   "outputs": [
    {
     "data": {
      "text/plain": [
       "{'P': 10, 'Q': 20, 'R': 30}"
      ]
     },
     "execution_count": 27,
     "metadata": {},
     "output_type": "execute_result"
    }
   ],
   "source": [
    "# dict contructor\n",
    "d = dict([(\"P\",10),(\"Q\",20),(\"R\",30)]) # converting list of items into dictionary using 'dict' keyword\n",
    "d"
   ]
  },
  {
   "cell_type": "code",
   "execution_count": 28,
   "id": "014ee8a8",
   "metadata": {},
   "outputs": [
    {
     "data": {
      "text/plain": [
       "10"
      ]
     },
     "execution_count": 28,
     "metadata": {},
     "output_type": "execute_result"
    }
   ],
   "source": [
    "# dictionary assigning to another variable\n",
    "s = d\n",
    "s['P'] #checking"
   ]
  },
  {
   "cell_type": "code",
   "execution_count": 29,
   "id": "f56769b6",
   "metadata": {},
   "outputs": [
    {
     "data": {
      "text/plain": [
       "dict_items([('P', 10), ('Q', 20), ('R', 30)])"
      ]
     },
     "execution_count": 29,
     "metadata": {},
     "output_type": "execute_result"
    }
   ],
   "source": [
    "u = s.items() # converting dictionary into list of items using 'items()' method\n",
    "u"
   ]
  },
  {
   "cell_type": "code",
   "execution_count": 30,
   "id": "2359fbb1",
   "metadata": {},
   "outputs": [
    {
     "data": {
      "text/plain": [
       "{'P': 10, 'Q': 20, 'R': 30}"
      ]
     },
     "execution_count": 30,
     "metadata": {},
     "output_type": "execute_result"
    }
   ],
   "source": [
    "v = dict(u)\n",
    "v"
   ]
  },
  {
   "cell_type": "code",
   "execution_count": 31,
   "id": "560746ca",
   "metadata": {},
   "outputs": [
    {
     "data": {
      "text/plain": [
       "{'Alice': 32, 'Bob': 48, 'Charlie': 28, 'Daniel': 33}"
      ]
     },
     "execution_count": 31,
     "metadata": {},
     "output_type": "execute_result"
    }
   ],
   "source": [
    "# converting dictionary into list of items using 'items()' method\n",
    "names_and_ages = [('Alice',32),('Bob',48),('Charlie',28),('Daniel',33)]\n",
    "d = dict(names_and_ages)\n",
    "d"
   ]
  },
  {
   "cell_type": "code",
   "execution_count": 32,
   "id": "1618f75f",
   "metadata": {},
   "outputs": [
    {
     "data": {
      "text/plain": [
       "{'a': 'alfa', 'b': 'bravo', 'c': 'Charlie', 'd': 'delta', 'e': 'echo'}"
      ]
     },
     "execution_count": 32,
     "metadata": {},
     "output_type": "execute_result"
    }
   ],
   "source": [
    "phonetic = dict(a='alfa',b='bravo',c='Charlie',d='delta',e='echo')\n",
    "phonetic"
   ]
  },
  {
   "cell_type": "code",
   "execution_count": 33,
   "id": "d6f4ef96",
   "metadata": {},
   "outputs": [
    {
     "data": {
      "text/plain": [
       "{'goldenrod': 14329120, 'indigo': 4915330, 'seashell': 16774638}"
      ]
     },
     "execution_count": 33,
     "metadata": {},
     "output_type": "execute_result"
    }
   ],
   "source": [
    "d = dict(goldenrod=0xDAA520,indigo=0x4B0082,seashell=0xFFF5EE)\n",
    "e = d.copy() # copying\n",
    "e"
   ]
  },
  {
   "cell_type": "code",
   "execution_count": 34,
   "id": "f5acbc26",
   "metadata": {},
   "outputs": [
    {
     "data": {
      "text/plain": [
       "{'goldenrod': 14329120, 'indigo': 4915330, 'seashell': 16774638}"
      ]
     },
     "execution_count": 34,
     "metadata": {},
     "output_type": "execute_result"
    }
   ],
   "source": [
    "f = dict(e) #copying using dict constructor\n",
    "f"
   ]
  },
  {
   "cell_type": "code",
   "execution_count": 35,
   "id": "fc62b3df",
   "metadata": {},
   "outputs": [
    {
     "data": {
      "text/plain": [
       "{'goldenrod': 14329120,\n",
       " 'indigo': 4915330,\n",
       " 'seashell': 16774638,\n",
       " 'wheat': 16113331,\n",
       " 'khaki': 15787660,\n",
       " 'crimson': 14423100}"
      ]
     },
     "execution_count": 35,
     "metadata": {},
     "output_type": "execute_result"
    }
   ],
   "source": [
    "g = dict(wheat=0xF5DeB3,khaki=0xF0E68C,crimson=0xDC143C)\n",
    "f.update(g) # using update\n",
    "f"
   ]
  },
  {
   "cell_type": "code",
   "execution_count": 36,
   "id": "bfb16cf1",
   "metadata": {},
   "outputs": [
    {
     "data": {
      "text/plain": [
       "{'GOOG': 894, 'AAPL': 416, 'IBM': 194, 'YHOO': 25}"
      ]
     },
     "execution_count": 36,
     "metadata": {},
     "output_type": "execute_result"
    }
   ],
   "source": [
    "stocks = {'GOOG':891,'AAPL':416,'IBM':194}\n",
    "stocks.update({'GOOG':894,'YHOO':25})\n",
    "stocks"
   ]
  },
  {
   "cell_type": "code",
   "execution_count": 37,
   "id": "1ef488a5",
   "metadata": {},
   "outputs": [
    {
     "data": {
      "text/plain": [
       "{'aquamarine': '#7FFFD4',\n",
       " 'burlywood': '#DEB887',\n",
       " 'chartreuse': '#7FFF00',\n",
       " 'cornflower': '#6495ED',\n",
       " 'firebrick': '#B22222',\n",
       " 'honeydew': '#F0FFF0',\n",
       " 'maroon': '#B03060',\n",
       " 'sienna': '#A0522D'}"
      ]
     },
     "execution_count": 37,
     "metadata": {},
     "output_type": "execute_result"
    }
   ],
   "source": [
    "colors = dict(aquamarine='#7FFFD4',burlywood='#DEB887',\n",
    "             chartreuse='#7FFF00',cornflower='#6495ED',\n",
    "             firebrick='#B22222',honeydew='#F0FFF0',\n",
    "             maroon='#B03060',sienna='#A0522D')\n",
    "colors"
   ]
  },
  {
   "cell_type": "code",
   "execution_count": 38,
   "id": "dfc2e93b",
   "metadata": {},
   "outputs": [
    {
     "name": "stdout",
     "output_type": "stream",
     "text": [
      "aquamarine => #7FFFD4\n",
      "burlywood => #DEB887\n",
      "chartreuse => #7FFF00\n",
      "cornflower => #6495ED\n",
      "firebrick => #B22222\n",
      "honeydew => #F0FFF0\n",
      "maroon => #B03060\n",
      "sienna => #A0522D\n"
     ]
    }
   ],
   "source": [
    "for key in colors: # without dictionary method\n",
    "    print(f\"{key} => {colors[key]}\")"
   ]
  },
  {
   "cell_type": "code",
   "execution_count": 39,
   "id": "3e3d77f3",
   "metadata": {},
   "outputs": [
    {
     "name": "stdout",
     "output_type": "stream",
     "text": [
      "aquamarine\n",
      "burlywood\n",
      "chartreuse\n",
      "cornflower\n",
      "firebrick\n",
      "honeydew\n",
      "maroon\n",
      "sienna\n"
     ]
    }
   ],
   "source": [
    "for k in colors.keys(): # keys dictionary method\n",
    "    print(k)"
   ]
  },
  {
   "cell_type": "code",
   "execution_count": 40,
   "id": "0ded0ae9",
   "metadata": {},
   "outputs": [
    {
     "name": "stdout",
     "output_type": "stream",
     "text": [
      "#7FFFD4\n",
      "#DEB887\n",
      "#7FFF00\n",
      "#6495ED\n",
      "#B22222\n",
      "#F0FFF0\n",
      "#B03060\n",
      "#A0522D\n"
     ]
    }
   ],
   "source": [
    "for v in colors.values(): # values dictionary method\n",
    "    print(v)"
   ]
  },
  {
   "cell_type": "code",
   "execution_count": 41,
   "id": "c66c675a",
   "metadata": {},
   "outputs": [
    {
     "name": "stdout",
     "output_type": "stream",
     "text": [
      "aquamarine #7FFFD4\n",
      "burlywood #DEB887\n",
      "chartreuse #7FFF00\n",
      "cornflower #6495ED\n",
      "firebrick #B22222\n",
      "honeydew #F0FFF0\n",
      "maroon #B03060\n",
      "sienna #A0522D\n"
     ]
    }
   ],
   "source": [
    "for k,v in colors.items(): # items dictionary method\n",
    "    print(k,v)"
   ]
  },
  {
   "cell_type": "code",
   "execution_count": 43,
   "id": "31b58092",
   "metadata": {},
   "outputs": [
    {
     "name": "stdout",
     "output_type": "stream",
     "text": [
      "aquamarine #7FFFD4\n",
      "burlywood #DEB887\n",
      "chartreuse #7FFF00\n",
      "cornflower #6495ED\n",
      "firebrick #B22222\n",
      "honeydew #F0FFF0\n",
      "maroon #B03060\n",
      "sienna #A0522D\n"
     ]
    }
   ],
   "source": [
    "for i in colors: # without dictionary methods\n",
    "    print(i,colors[i])"
   ]
  },
  {
   "cell_type": "code",
   "execution_count": 44,
   "id": "5f34e1c3",
   "metadata": {},
   "outputs": [
    {
     "name": "stdout",
     "output_type": "stream",
     "text": [
      "aquamarine #7FFFD4\n",
      "burlywood #DEB887\n",
      "chartreuse #7FFF00\n",
      "cornflower #6495ED\n",
      "firebrick #B22222\n",
      "honeydew #F0FFF0\n",
      "maroon #B03060\n",
      "sienna #A0522D\n"
     ]
    }
   ],
   "source": [
    "for i in colors: # without dictionary methods\n",
    "    print(i,colors[i])"
   ]
  },
  {
   "cell_type": "code",
   "execution_count": 45,
   "id": "a98d822f",
   "metadata": {},
   "outputs": [
    {
     "name": "stdout",
     "output_type": "stream",
     "text": [
      "aquamarine #7FFFD4\n",
      "burlywood #DEB887\n",
      "chartreuse #7FFF00\n",
      "cornflower #6495ED\n",
      "firebrick #B22222\n",
      "honeydew #F0FFF0\n",
      "maroon #B03060\n",
      "sienna #A0522D\n"
     ]
    }
   ],
   "source": [
    "for i in colors: # without dictionary methods\n",
    "    print(i,colors[i])"
   ]
  },
  {
   "cell_type": "code",
   "execution_count": 46,
   "id": "5eed2185",
   "metadata": {},
   "outputs": [
    {
     "data": {
      "text/plain": [
       "{'H': 1, 'Tc': 43, 'Xe': 54, 'Rf': 104, 'Fm': 100}"
      ]
     },
     "execution_count": 46,
     "metadata": {},
     "output_type": "execute_result"
    }
   ],
   "source": [
    "z = {'H':1,'Tc':43,'Xe':54,'Fy':137,'Rf':104,'Fm':100}\n",
    "del z['Fy']\n",
    "z"
   ]
  },
  {
   "cell_type": "code",
   "execution_count": 47,
   "id": "2b385519",
   "metadata": {},
   "outputs": [
    {
     "data": {
      "text/plain": [
       "{'H': [1, 2, 3],\n",
       " 'He': [3, 4],\n",
       " 'Li': [6, 7],\n",
       " 'Be': [7, 9, 10],\n",
       " 'B': [10, 11],\n",
       " 'C': [11, 12, 13, 14]}"
      ]
     },
     "execution_count": 47,
     "metadata": {},
     "output_type": "execute_result"
    }
   ],
   "source": [
    "m = {'H':[1,2,3],\n",
    "    'He':[3,4],\n",
    "    'Li':[6,7],\n",
    "    'Be':[7,9,10],\n",
    "    'B':[10,11],\n",
    "    'C':[11,12,13,14]}\n",
    "m"
   ]
  },
  {
   "cell_type": "code",
   "execution_count": 48,
   "id": "68fc509a",
   "metadata": {},
   "outputs": [
    {
     "data": {
      "text/plain": [
       "{'H': [1, 2, 3, 4, 5, 6, 7],\n",
       " 'He': [3, 4],\n",
       " 'Li': [6, 7],\n",
       " 'Be': [7, 9, 10],\n",
       " 'B': [10, 11],\n",
       " 'C': [11, 12, 13, 14]}"
      ]
     },
     "execution_count": 48,
     "metadata": {},
     "output_type": "execute_result"
    }
   ],
   "source": [
    "m['H'] += [4,5,6,7] # mutating dictionary values\n",
    "m"
   ]
  },
  {
   "cell_type": "code",
   "execution_count": 49,
   "id": "3d7e7068",
   "metadata": {},
   "outputs": [
    {
     "data": {
      "text/plain": [
       "{'H': [1, 2, 3, 4, 5, 6, 7],\n",
       " 'He': [3, 4],\n",
       " 'Li': [6, 7],\n",
       " 'Be': [7, 9, 10],\n",
       " 'B': [10, 11],\n",
       " 'C': [11, 12, 13, 14],\n",
       " 'N': [13, 14, 15]}"
      ]
     },
     "execution_count": 49,
     "metadata": {},
     "output_type": "execute_result"
    }
   ],
   "source": [
    "m['N'] = [13,14,15]\n",
    "\n",
    "m"
   ]
  },
  {
   "cell_type": "code",
   "execution_count": 1,
   "id": "3c7c508a",
   "metadata": {},
   "outputs": [
    {
     "name": "stdout",
     "output_type": "stream",
     "text": [
      "hello\n"
     ]
    }
   ],
   "source": [
    "print(\"hello\")"
   ]
  },
  {
   "cell_type": "markdown",
   "id": "1ef56681",
   "metadata": {},
   "source": [
    "# Dictionary Comprehensions"
   ]
  },
  {
   "cell_type": "code",
   "execution_count": 2,
   "id": "1fa6bafd",
   "metadata": {},
   "outputs": [],
   "source": [
    "country_to_capital = {\n",
    "    'India':'New Delhi',\n",
    "    'United Kingdom':'London',\n",
    "    'Bangladesh':'Dhaka',\n",
    "    'Malaysia':'kuala Lumpur'\n",
    "}\n",
    "\n",
    "capital_to_country={capital:country for country,capital in country_to_capital.items()}"
   ]
  },
  {
   "cell_type": "code",
   "execution_count": 5,
   "id": "68a181bd",
   "metadata": {},
   "outputs": [
    {
     "name": "stdout",
     "output_type": "stream",
     "text": [
      "{'Dhaka': 'Bangladesh',\n",
      " 'London': 'United Kingdom',\n",
      " 'New Delhi': 'India',\n",
      " 'kuala Lumpur': 'Malaysia'}\n"
     ]
    }
   ],
   "source": [
    "from pprint import pprint as pp\n",
    "pp(capital_to_country)"
   ]
  },
  {
   "cell_type": "code",
   "execution_count": 6,
   "id": "9758f8cd",
   "metadata": {},
   "outputs": [
    {
     "data": {
      "text/plain": [
       "{'h': 'hotel', 'f': 'foxtrot'}"
      ]
     },
     "execution_count": 6,
     "metadata": {},
     "output_type": "execute_result"
    }
   ],
   "source": [
    "words = ['hi','hello','foxtrot','hotel']\n",
    "{x[0]:x for x in words}"
   ]
  },
  {
   "cell_type": "code",
   "execution_count": null,
   "id": "3a2db58c",
   "metadata": {},
   "outputs": [],
   "source": []
  },
  {
   "cell_type": "code",
   "execution_count": null,
   "id": "d03ab11b",
   "metadata": {},
   "outputs": [],
   "source": []
  }
 ],
 "metadata": {
  "kernelspec": {
   "display_name": "Python 3 (ipykernel)",
   "language": "python",
   "name": "python3"
  },
  "language_info": {
   "codemirror_mode": {
    "name": "ipython",
    "version": 3
   },
   "file_extension": ".py",
   "mimetype": "text/x-python",
   "name": "python",
   "nbconvert_exporter": "python",
   "pygments_lexer": "ipython3",
   "version": "3.9.13"
  }
 },
 "nbformat": 4,
 "nbformat_minor": 5
}
