{
 "cells": [
  {
   "cell_type": "markdown",
   "id": "bbc1c9a3",
   "metadata": {},
   "source": [
    "# Python OOPS"
   ]
  },
  {
   "cell_type": "markdown",
   "id": "e4b2fcb6",
   "metadata": {},
   "source": [
    "#### Classes"
   ]
  },
  {
   "cell_type": "code",
   "execution_count": 1,
   "id": "e9764698",
   "metadata": {},
   "outputs": [
    {
     "name": "stdout",
     "output_type": "stream",
     "text": [
      "Hello\n"
     ]
    }
   ],
   "source": [
    "class MyClass:\n",
    "    def greet(self):  # instance method\n",
    "        print(\"Hello\")\n",
    "\n",
    "# Creating an instance of a class\n",
    "obj = MyClass()\n",
    "\n",
    "# Calling the instance method\n",
    "obj.greet()"
   ]
  },
  {
   "cell_type": "code",
   "execution_count": 2,
   "id": "c906193b",
   "metadata": {},
   "outputs": [
    {
     "name": "stdout",
     "output_type": "stream",
     "text": [
      "Enter a number: 5\n",
      "The square of 5 is: 25\n"
     ]
    }
   ],
   "source": [
    "def calculate_square(num):\n",
    "    return num ** 2\n",
    "\n",
    "if __name__ == \"__main__\":\n",
    "    number = int(input(\"Enter a number: \"))\n",
    "    result = calculate_square(number)\n",
    "    print(f\"The square of {number} is: {result}\")"
   ]
  },
  {
   "cell_type": "code",
   "execution_count": 16,
   "id": "955bccb6",
   "metadata": {},
   "outputs": [
    {
     "name": "stdout",
     "output_type": "stream",
     "text": [
      "hello world! John\n"
     ]
    }
   ],
   "source": [
    "class Main():\n",
    "    def __init__(self):\n",
    "        self.name = \"John\"\n",
    "    def printing(self):\n",
    "        print(\"hello world!\",self.name) \n",
    "    \n",
    "\n",
    "if __name__ == \"__main__\":\n",
    "    obj = Main()\n",
    "    obj.printing()\n",
    "    "
   ]
  },
  {
   "cell_type": "code",
   "execution_count": 1,
   "id": "1129e515",
   "metadata": {},
   "outputs": [],
   "source": [
    "names = {\n",
    "    'Theodore': {'dept': 'CS', 'age': 45}, \n",
    "    'Roxanne': {'dept': 'ME', 'age': 15}, \n",
    "    'Mathew': {'dept': 'CS', 'age': 21},\n",
    "    'Unis': {'dept': 'CS', 'age': 18}\n",
    "}\n",
    "\n"
   ]
  },
  {
   "cell_type": "code",
   "execution_count": 48,
   "id": "1b70b279",
   "metadata": {},
   "outputs": [
    {
     "name": "stdout",
     "output_type": "stream",
     "text": [
      "Theodore\n",
      "Mathew\n",
      "Unis\n"
     ]
    }
   ],
   "source": [
    "for x in names:\n",
    "    #p = names[x]\n",
    "    #for i in names[x]:\n",
    "        if names[x]['dept'] == 'CS':\n",
    "            print(x)"
   ]
  },
  {
   "cell_type": "code",
   "execution_count": 42,
   "id": "2a5fc5bd",
   "metadata": {},
   "outputs": [
    {
     "ename": "SyntaxError",
     "evalue": "invalid syntax (313670655.py, line 1)",
     "output_type": "error",
     "traceback": [
      "\u001b[1;36m  File \u001b[1;32m\"C:\\Users\\KNAGASRE\\AppData\\Local\\Temp\\ipykernel_13392\\313670655.py\"\u001b[1;36m, line \u001b[1;32m1\u001b[0m\n\u001b[1;33m    [p = names[x] for x in names for i in p if names[x][i] == \"CS\"]\u001b[0m\n\u001b[1;37m       ^\u001b[0m\n\u001b[1;31mSyntaxError\u001b[0m\u001b[1;31m:\u001b[0m invalid syntax\n"
     ]
    }
   ],
   "source": [
    "[names[x] for x in names for i in  if names[x][i] == \"CS\"]"
   ]
  },
  {
   "cell_type": "code",
   "execution_count": 1,
   "id": "ed26e5f6",
   "metadata": {},
   "outputs": [
    {
     "ename": "TypeError",
     "evalue": "color() missing 1 required positional argument: 'green'",
     "output_type": "error",
     "traceback": [
      "\u001b[1;31m---------------------------------------------------------------------------\u001b[0m",
      "\u001b[1;31mTypeError\u001b[0m                                 Traceback (most recent call last)",
      "\u001b[1;32m~\\AppData\\Local\\Temp\\ipykernel_24972\\103984564.py\u001b[0m in \u001b[0;36m<module>\u001b[1;34m\u001b[0m\n\u001b[0;32m      4\u001b[0m \u001b[1;33m\u001b[0m\u001b[0m\n\u001b[0;32m      5\u001b[0m \u001b[0mk\u001b[0m \u001b[1;33m=\u001b[0m \u001b[1;33m{\u001b[0m\u001b[1;34m'red'\u001b[0m\u001b[1;33m:\u001b[0m\u001b[1;36m21\u001b[0m\u001b[1;33m,\u001b[0m \u001b[1;34m'green'\u001b[0m\u001b[1;33m:\u001b[0m \u001b[1;36m22\u001b[0m\u001b[1;33m}\u001b[0m\u001b[1;33m\u001b[0m\u001b[1;33m\u001b[0m\u001b[0m\n\u001b[1;32m----> 6\u001b[1;33m \u001b[0mcolor\u001b[0m\u001b[1;33m(\u001b[0m\u001b[0mk\u001b[0m\u001b[1;33m)\u001b[0m\u001b[1;33m\u001b[0m\u001b[1;33m\u001b[0m\u001b[0m\n\u001b[0m",
      "\u001b[1;31mTypeError\u001b[0m: color() missing 1 required positional argument: 'green'"
     ]
    }
   ],
   "source": [
    "def color(red,green):\n",
    "    print(\"r = \",red)\n",
    "    print(\"g = \",green)\n",
    "    \n",
    "k = {'red':21, 'green': 22}\n",
    "color(k)"
   ]
  },
  {
   "cell_type": "code",
   "execution_count": null,
   "id": "4ac4fc32",
   "metadata": {},
   "outputs": [],
   "source": []
  }
 ],
 "metadata": {
  "kernelspec": {
   "display_name": "Python 3 (ipykernel)",
   "language": "python",
   "name": "python3"
  },
  "language_info": {
   "codemirror_mode": {
    "name": "ipython",
    "version": 3
   },
   "file_extension": ".py",
   "mimetype": "text/x-python",
   "name": "python",
   "nbconvert_exporter": "python",
   "pygments_lexer": "ipython3",
   "version": "3.9.13"
  }
 },
 "nbformat": 4,
 "nbformat_minor": 5
}
