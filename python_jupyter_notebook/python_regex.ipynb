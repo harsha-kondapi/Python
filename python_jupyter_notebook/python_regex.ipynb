{
 "cells": [
  {
   "cell_type": "code",
   "execution_count": 91,
   "id": "efde2b79",
   "metadata": {},
   "outputs": [
    {
     "name": "stdout",
     "output_type": "stream",
     "text": [
      "[]\n",
      "['alias']\n",
      "['aliamrfi']\n"
     ]
    }
   ],
   "source": [
    "import re\n",
    "\n",
    "exp1 = re.findall('^a...s$','abs')\n",
    "print(exp1)\n",
    "exp2 = re.findall('^a...s$','alias')\n",
    "print(exp2)\n",
    "\n",
    "exp6 = re.findall('^a...m...','aliamrfirk')\n",
    "print(exp6)"
   ]
  },
  {
   "cell_type": "code",
   "execution_count": 101,
   "id": "07a302e6",
   "metadata": {},
   "outputs": [
    {
     "name": "stdout",
     "output_type": "stream",
     "text": [
      "['a']\n",
      "['a', 'b', 'c', 'c', 'a']\n",
      "[]\n"
     ]
    }
   ],
   "source": [
    "exp3 = re.findall('[abc]','a')\n",
    "print(exp3)\n",
    "exp4 = re.findall('[abc]','abc de ca')\n",
    "print(exp4)\n",
    "exp5 = re.findall('[abc]','Hey Jude')\n",
    "print(exp5)"
   ]
  },
  {
   "cell_type": "code",
   "execution_count": 238,
   "id": "036db8e5",
   "metadata": {},
   "outputs": [
    {
     "name": "stdout",
     "output_type": "stream",
     "text": [
      "['e']\n",
      "['h', 'l', 'l', 'o']\n"
     ]
    }
   ],
   "source": [
    "exp7 = re.findall('[a-e]','hello')\n",
    "print(exp7)\n",
    "\n",
    "exp8 = re.findall('[^a-e]','hello')\n",
    "print(exp8)\n"
   ]
  },
  {
   "cell_type": "code",
   "execution_count": 211,
   "id": "809fa8e8",
   "metadata": {},
   "outputs": [
    {
     "name": "stdout",
     "output_type": "stream",
     "text": [
      "['1', '6', '7']\n",
      "['1', '2', '3', '9', '9', '9', '9', '9', '9', '9', '9', '9', '9']\n"
     ]
    }
   ],
   "source": [
    "exp9 = re.findall('[0-9]','167')\n",
    "print(exp9)\n",
    "\n",
    "exp10 = re.findall('[0-39]','12345689999999999')\n",
    "print(exp10)"
   ]
  },
  {
   "cell_type": "code",
   "execution_count": 210,
   "id": "2bb9318d",
   "metadata": {},
   "outputs": [
    {
     "name": "stdout",
     "output_type": "stream",
     "text": [
      "['A', 'B', 'C', 'D']\n",
      "['A', 'B', 'C', 'D']\n"
     ]
    }
   ],
   "source": [
    "exp11 = re.findall('\\D','ABCD')\n",
    "print(exp11)\n",
    "\n",
    "exp12 = re.findall('[^0-9]','ABCD')\n",
    "print(exp12)"
   ]
  },
  {
   "cell_type": "code",
   "execution_count": 239,
   "id": "f9597a91",
   "metadata": {},
   "outputs": [
    {
     "name": "stdout",
     "output_type": "stream",
     "text": [
      "['1', '2', '3', '4', '5']\n",
      "['12345', '']\n",
      "['12345']\n",
      "['A', 'B', 'C', 'D', 'E']\n"
     ]
    }
   ],
   "source": [
    "exp13 = re.findall('[0-9]','12345')\n",
    "print(exp13)\n",
    "\n",
    "exp14 = re.findall('[0-9]*','12345')\n",
    "print(exp14)\n",
    "\n",
    "exp15 = re.findall('[0-9]+','12345')\n",
    "print(exp15)\n",
    "\n",
    "exp16 = re.findall('[^0-9]','ABCDE')\n",
    "print(exp16)"
   ]
  },
  {
   "cell_type": "code",
   "execution_count": 251,
   "id": "67406be6",
   "metadata": {},
   "outputs": [
    {
     "name": "stdout",
     "output_type": "stream",
     "text": [
      "[]\n",
      "['alian']\n",
      "['a']\n",
      "['ab']\n",
      "['ab']\n",
      "[]\n"
     ]
    }
   ],
   "source": [
    "exp17 = re.findall('a...n','abn')\n",
    "print(exp17)\n",
    "\n",
    "exp18 = re.findall('a...n','alian')\n",
    "print(exp18)\n",
    "\n",
    "exp19 = re.findall('^a','abc')\n",
    "print(exp19)\n",
    "\n",
    "exp20 = re.findall('^ab','abc')\n",
    "print(exp20)\n",
    "\n",
    "exp21 = re.findall('\\Aab','abc')\n",
    "print(exp21)\n",
    "\n",
    "exp22 = re.findall('^a','bac')\n",
    "print(exp22)"
   ]
  },
  {
   "cell_type": "code",
   "execution_count": 285,
   "id": "5255cc39",
   "metadata": {},
   "outputs": [
    {
     "name": "stdout",
     "output_type": "stream",
     "text": [
      "['1', '2', '3', '4', '5']\n",
      "['1', '2', '3']\n",
      "[' ', ' ', ' ']\n",
      "['m', 'y', 'n', 'a', 'm', 'e', 'i', 's', 'h', 'a', 'r', 's', 'h', 'a']\n",
      "['a', 'b', '1', '2', '3', 'c', 'd']\n",
      "[]\n",
      "['the']\n",
      "[]\n"
     ]
    }
   ],
   "source": [
    "exp23 = re.findall('\\d','12345')\n",
    "print(exp23)\n",
    "\n",
    "exp24 = re.findall('[0-9]','123')\n",
    "print(exp24)\n",
    "\n",
    "exp25 = re.findall('\\s','my name is harsha')\n",
    "print(exp25)\n",
    "\n",
    "exp26 = re.findall('\\S','my name is harsha')\n",
    "print(exp26)\n",
    "\n",
    "exp27 = re.findall('\\w','ab123cd')\n",
    "print(exp27)\n",
    "\n",
    "exp28 = re.findall('\\W','ab123cd')\n",
    "print(exp28)\n",
    "\n",
    "exp29 = re.findall('\\Athe','the sun')\n",
    "print(exp29)\n",
    "\n",
    "exp30 = re.findall('\\ZPython','i like Python')\n",
    "print(exp30)"
   ]
  },
  {
   "cell_type": "code",
   "execution_count": 299,
   "id": "9e1e038a",
   "metadata": {},
   "outputs": [
    {
     "name": "stdout",
     "output_type": "stream",
     "text": [
      "[]\n"
     ]
    }
   ],
   "source": [
    "exp31 = re.findall('\\r','123.0.10.12/')\n",
    "print(exp31)"
   ]
  },
  {
   "cell_type": "code",
   "execution_count": null,
   "id": "9da631a7",
   "metadata": {},
   "outputs": [],
   "source": []
  },
  {
   "cell_type": "code",
   "execution_count": null,
   "id": "53952e33",
   "metadata": {},
   "outputs": [],
   "source": []
  },
  {
   "cell_type": "code",
   "execution_count": null,
   "id": "86ec570e",
   "metadata": {},
   "outputs": [],
   "source": []
  },
  {
   "cell_type": "markdown",
   "id": "268cb1c3",
   "metadata": {},
   "source": [
    "# re.match(pattern,string)\n",
    "\n",
    "#### match() is the first re module method and RE object (regex object) method. The match() function attempts to match the pattern to the string, starting at the beginning. If the match is successful, a match object is returned, but on failure, None is returned.\n",
    "\n",
    "#### The group() method of a match object can be used to show the successful match."
   ]
  },
  {
   "cell_type": "code",
   "execution_count": null,
   "id": "d3f85405",
   "metadata": {},
   "outputs": [],
   "source": []
  },
  {
   "cell_type": "code",
   "execution_count": 19,
   "id": "7b4d2436",
   "metadata": {},
   "outputs": [
    {
     "name": "stdout",
     "output_type": "stream",
     "text": [
      "<re.Match object; span=(0, 6), match='python'>\n"
     ]
    }
   ],
   "source": [
    "import re\n",
    "# matching python in the given sentence\n",
    "\n",
    "result = re.match('python', 'python programming and python')\n",
    "print (result)\n"
   ]
  },
  {
   "cell_type": "code",
   "execution_count": 18,
   "id": "094d97c9",
   "metadata": {},
   "outputs": [
    {
     "name": "stdout",
     "output_type": "stream",
     "text": [
      "Result : <re.Match object; span=(0, 6), match='python'>\n",
      "python\n",
      "Starting position of the match :  0\n",
      "Ending position of the match :  6\n"
     ]
    }
   ],
   "source": [
    "print ('Result :', result)\n",
    "\n",
    "print(result.group())\n",
    "print(\"Starting position of the match : \",result.start())\n",
    "print(\"Ending position of the match : \",result.end())"
   ]
  },
  {
   "cell_type": "code",
   "execution_count": 17,
   "id": "992aa8ab",
   "metadata": {},
   "outputs": [
    {
     "name": "stdout",
     "output_type": "stream",
     "text": [
      "Result : None\n"
     ]
    }
   ],
   "source": [
    "result1 = re.match('programming', 'python programming and python')\n",
    "print ('Result :', result1)"
   ]
  },
  {
   "cell_type": "code",
   "execution_count": 21,
   "id": "57116a85",
   "metadata": {},
   "outputs": [
    {
     "name": "stdout",
     "output_type": "stream",
     "text": [
      "python\n",
      "No Match\n"
     ]
    }
   ],
   "source": [
    "m1 = re.match('python', 'python programming language')\n",
    "m2 = re.match('programming', 'python programming language')\n",
    "\n",
    "if m1:\n",
    "    print(m1.group())\n",
    "else:\n",
    "    print(\"No Match\")\n",
    "    \n",
    "if m2:\n",
    "    print(m2.group())\n",
    "else:\n",
    "    print(\"No Match\")"
   ]
  },
  {
   "cell_type": "markdown",
   "id": "647bcb2d",
   "metadata": {},
   "source": [
    "# re.search(pattern,string)\n",
    "\n",
    "#### It is similar to match() but it doesn’t restrict us to find matches at the beginning of the string only. The search() function searches the string for a match, and returns a Match object if there is a match.\n",
    "\n",
    "#### If there is more than one match, only the first occurrence of the match will be return. If no matches are found, the value None is returned.\n",
    "\n",
    "#### Here you can see that, search() method is able to find a pattern from any position of the string but it only returns the first occurrence of the search pattern."
   ]
  },
  {
   "cell_type": "code",
   "execution_count": 25,
   "id": "16f484ea",
   "metadata": {},
   "outputs": [
    {
     "name": "stdout",
     "output_type": "stream",
     "text": [
      "Result : <re.Match object; span=(7, 18), match='programming'>\n"
     ]
    }
   ],
   "source": [
    "value = re.search('programming', 'python programming and python')\n",
    "print ('Result :',value)"
   ]
  },
  {
   "cell_type": "markdown",
   "id": "d85bac66",
   "metadata": {},
   "source": [
    "# re.findall(pattern,string).\n",
    "\n",
    "#### It helps to get a list of all matching patterns. It has no constraints of searching from start or end. If we will use method findall to search a given string it will return all occurrence of that string. While searching a string, I would recommend you to use re.findall() always, it can work like re.search() and re.match() both.\n",
    "\n",
    "#### The re.findall() method returns a list of all matches of a pattern within the string. It returns the patterns in the order they are found. If there are no matches, then an empty list is returned."
   ]
  },
  {
   "cell_type": "code",
   "execution_count": 24,
   "id": "6f88a12a",
   "metadata": {},
   "outputs": [
    {
     "name": "stdout",
     "output_type": "stream",
     "text": [
      "Result : ['programming', 'programming']\n"
     ]
    }
   ],
   "source": [
    "result = re.findall('programming', 'python programming and python programming')\n",
    "print ('Result :', result)"
   ]
  },
  {
   "cell_type": "code",
   "execution_count": 302,
   "id": "5c2180dd",
   "metadata": {},
   "outputs": [
    {
     "name": "stdout",
     "output_type": "stream",
     "text": [
      "['2', '23', '234']\n"
     ]
    }
   ],
   "source": [
    "str1 = 'python 2 program 23 script 234'\n",
    "ptrn = '\\d+'\n",
    "\n",
    "ms = re.findall(ptrn,str1)\n",
    "print(ms)"
   ]
  },
  {
   "cell_type": "code",
   "execution_count": 329,
   "id": "231a0592",
   "metadata": {},
   "outputs": [
    {
     "name": "stdout",
     "output_type": "stream",
     "text": [
      "Kiran:22\n",
      "Tarun:33\n",
      "Ganesh:44\n",
      "Jony:21\n"
     ]
    }
   ],
   "source": [
    "Nameage = '''Kiran is 22 and Tarun is 33\n",
    "Ganesh is 44 and Jony is 21'''\n",
    "\n",
    "ages = re.findall('\\d+',Nameage)\n",
    "names = re.findall('[A-Z][a-z]*',Nameage)\n",
    "x = 0\n",
    "for eachname in names:\n",
    "    print(f\"{eachname}:{ages[x]}\")\n",
    "    x = x + 1"
   ]
  },
  {
   "cell_type": "code",
   "execution_count": 342,
   "id": "dfbe4c68",
   "metadata": {},
   "outputs": [
    {
     "name": "stdout",
     "output_type": "stream",
     "text": [
      "sat\n",
      "mat\n",
      "pat\n"
     ]
    }
   ],
   "source": [
    "str2 = \"sat,Hat,mat,pat\"\n",
    "allstr = re.findall(\"[shmp]at\",str2)\n",
    "for i in allstr:\n",
    "    print(i)"
   ]
  },
  {
   "cell_type": "code",
   "execution_count": 345,
   "id": "7e0c0ba5",
   "metadata": {},
   "outputs": [
    {
     "name": "stdout",
     "output_type": "stream",
     "text": [
      "hat\n",
      "mat\n"
     ]
    }
   ],
   "source": [
    "str3 = \"sat,hat,mat,pat\"\n",
    "allstr = re.findall(\"[h-m]at\",str3)\n",
    "for i in allstr:\n",
    "    print(i)"
   ]
  },
  {
   "cell_type": "code",
   "execution_count": 346,
   "id": "26a44516",
   "metadata": {},
   "outputs": [
    {
     "name": "stdout",
     "output_type": "stream",
     "text": [
      "sat\n",
      "pat\n"
     ]
    }
   ],
   "source": [
    "str4 = \"sat,hat,mat,pat\"\n",
    "allstr = re.findall(\"[^h-m]at\",str4)\n",
    "for i in allstr:\n",
    "    print(i)"
   ]
  },
  {
   "cell_type": "code",
   "execution_count": null,
   "id": "66b04c3b",
   "metadata": {},
   "outputs": [],
   "source": []
  },
  {
   "cell_type": "code",
   "execution_count": null,
   "id": "11ea1012",
   "metadata": {},
   "outputs": [],
   "source": []
  },
  {
   "cell_type": "markdown",
   "id": "2798ca3f",
   "metadata": {},
   "source": [
    "# re.split(pattern,string,maxsplit)"
   ]
  },
  {
   "cell_type": "code",
   "execution_count": 390,
   "id": "0f363c05",
   "metadata": {},
   "outputs": [
    {
     "name": "stdout",
     "output_type": "stream",
     "text": [
      "['python', 'programming', 'and', 'python', 'scripting']\n",
      "['python', 'programming', 'and python scripting']\n",
      "['255.255.255.255', '32']\n",
      "['255', '255', '255', '255']\n"
     ]
    }
   ],
   "source": [
    "import re\n",
    "\n",
    "res = re.split('\\s','python programming and python scripting')\n",
    "print(res)\n",
    "\n",
    "res = re.split('\\s','python programming and python scripting',2)\n",
    "print(res)\n",
    "\n",
    "res1 = re.split('\\/','255.255.255.255/32')\n",
    "print(res1)\n",
    "\n",
    "res2 = re.split('\\.',res1[0])\n",
    "print(res2)\n",
    "\n",
    "\n",
    "# res2 = re.search('/','255.255.255.255/32')\n",
    "# print(res2.group())\n",
    "\n"
   ]
  },
  {
   "cell_type": "markdown",
   "id": "32e523a6",
   "metadata": {},
   "source": [
    "# re.split(pattern, string, [maxsplit=0]):\n"
   ]
  },
  {
   "cell_type": "code",
   "execution_count": null,
   "id": "c7f60409",
   "metadata": {},
   "outputs": [],
   "source": []
  }
 ],
 "metadata": {
  "kernelspec": {
   "display_name": "Python 3 (ipykernel)",
   "language": "python",
   "name": "python3"
  },
  "language_info": {
   "codemirror_mode": {
    "name": "ipython",
    "version": 3
   },
   "file_extension": ".py",
   "mimetype": "text/x-python",
   "name": "python",
   "nbconvert_exporter": "python",
   "pygments_lexer": "ipython3",
   "version": "3.9.13"
  }
 },
 "nbformat": 4,
 "nbformat_minor": 5
}
