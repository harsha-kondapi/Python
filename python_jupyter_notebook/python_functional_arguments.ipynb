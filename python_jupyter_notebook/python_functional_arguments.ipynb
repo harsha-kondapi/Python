{
 "cells": [
  {
   "cell_type": "markdown",
   "id": "5bcc76a4",
   "metadata": {},
   "source": [
    "# Arbitrary Arguments, *args"
   ]
  },
  {
   "cell_type": "markdown",
   "id": "643af767",
   "metadata": {},
   "source": [
    "If you do not know how many arguments that will be passed into your function, add a * before the parameter name in the function definition.\n",
    "\n",
    "This way the function will receive a tuple of arguments, and can access the items accordingly:"
   ]
  },
  {
   "cell_type": "code",
   "execution_count": 3,
   "id": "b9771c49",
   "metadata": {},
   "outputs": [
    {
     "name": "stdout",
     "output_type": "stream",
     "text": [
      "The youngest child is Tanishka\n"
     ]
    }
   ],
   "source": [
    "def my_function(*kids):\n",
    "    print(\"The youngest child is \"+kids[2])\n",
    "    \n",
    "my_function('Aaryan','Kavya','Tanishka')"
   ]
  },
  {
   "cell_type": "markdown",
   "id": "8e467432",
   "metadata": {},
   "source": [
    "# Keyword Arguments"
   ]
  },
  {
   "cell_type": "markdown",
   "id": "bae8354d",
   "metadata": {},
   "source": [
    "You can also send arguments with the key = value syntax.\n",
    "\n",
    "This way the order of the arguments does not matter."
   ]
  },
  {
   "cell_type": "code",
   "execution_count": 9,
   "id": "d96ea086",
   "metadata": {},
   "outputs": [
    {
     "name": "stdout",
     "output_type": "stream",
     "text": [
      "The youngest child is Vyshanavi\n"
     ]
    }
   ],
   "source": [
    "def my_function(child3, child1, child2):\n",
    "    print(\"The youngest child is \"+child2)\n",
    "    \n",
    "my_function(child1 = \"Aaryan\",child2 = \"Vyshanavi\", child3 = \"Kavya\")\n"
   ]
  },
  {
   "cell_type": "markdown",
   "id": "aaedb5c2",
   "metadata": {},
   "source": [
    "# Arbitrary Keyword Arguments, **kwargs"
   ]
  },
  {
   "cell_type": "markdown",
   "id": "8bf1635c",
   "metadata": {},
   "source": [
    "If you do not know how many keyword arguments that will be passed into your function, add two asterisk: ** before the parameter name in the function definition.\n",
    "\n",
    "This way the function will receive a dictionary of arguments, and can access the items accordingly:"
   ]
  },
  {
   "cell_type": "code",
   "execution_count": 10,
   "id": "0974ed80",
   "metadata": {},
   "outputs": [
    {
     "name": "stdout",
     "output_type": "stream",
     "text": [
      "His last name is salvatore\n"
     ]
    }
   ],
   "source": [
    "def my_function(**kids):\n",
    "    print(\"His last name is \"+kids[\"lname\"])\n",
    "    \n",
    "my_function(fname = \"damon\", lname = \"salvatore\")"
   ]
  },
  {
   "cell_type": "markdown",
   "id": "ecf72b89",
   "metadata": {},
   "source": [
    "# Default Parameter Value"
   ]
  },
  {
   "cell_type": "markdown",
   "id": "0b399504",
   "metadata": {},
   "source": [
    "The following example shows how to use a default parameter value.\n",
    "\n",
    "If we call the function without argument, it uses the default value:"
   ]
  },
  {
   "cell_type": "code",
   "execution_count": 20,
   "id": "5de13328",
   "metadata": {},
   "outputs": [
    {
     "name": "stdout",
     "output_type": "stream",
     "text": [
      "I am from sweden\n",
      "I am from Germany\n",
      "I am from India\n"
     ]
    }
   ],
   "source": [
    "def my_function(country = \"India\"):\n",
    "    print(\"I am from \"+country)\n",
    "    \n",
    "my_function(\"sweden\")\n",
    "my_function(\"Germany\")\n",
    "my_function()"
   ]
  },
  {
   "cell_type": "markdown",
   "id": "4ac5ebd9",
   "metadata": {},
   "source": [
    "# Passing a list as an argument"
   ]
  },
  {
   "cell_type": "code",
   "execution_count": 22,
   "id": "928ae170",
   "metadata": {},
   "outputs": [
    {
     "name": "stdout",
     "output_type": "stream",
     "text": [
      "apple\n",
      "banana\n",
      "grapes\n"
     ]
    }
   ],
   "source": [
    "def my_function(food):\n",
    "    for x in food:\n",
    "        print(x)\n",
    "        \n",
    "fruits = [\"apple\",\"banana\",\"grapes\"]\n",
    "\n",
    "my_function(fruits)"
   ]
  },
  {
   "cell_type": "code",
   "execution_count": null,
   "id": "13a90ffb",
   "metadata": {},
   "outputs": [],
   "source": []
  }
 ],
 "metadata": {
  "kernelspec": {
   "display_name": "Python 3 (ipykernel)",
   "language": "python",
   "name": "python3"
  },
  "language_info": {
   "codemirror_mode": {
    "name": "ipython",
    "version": 3
   },
   "file_extension": ".py",
   "mimetype": "text/x-python",
   "name": "python",
   "nbconvert_exporter": "python",
   "pygments_lexer": "ipython3",
   "version": "3.9.13"
  }
 },
 "nbformat": 4,
 "nbformat_minor": 5
}
